{
 "cells": [
  {
   "cell_type": "markdown",
   "metadata": {
    "Collapsed": "false"
   },
   "source": [
    "# Stability of identity 2v-2e-2v network"
   ]
  },
  {
   "cell_type": "markdown",
   "metadata": {
    "Collapsed": "false"
   },
   "source": [
    "Purpose: To do a linear stability analysis of a PC network with 2 inputs and 2 outputs."
   ]
  },
  {
   "cell_type": "code",
   "execution_count": 1,
   "metadata": {
    "Collapsed": "false"
   },
   "outputs": [],
   "source": [
    "import numpy as np\n",
    "np.set_printoptions(precision=4)\n",
    "import copy\n",
    "import matplotlib.pyplot as plt\n",
    "from scipy.integrate import solve_ivp"
   ]
  },
  {
   "cell_type": "code",
   "execution_count": 83,
   "metadata": {
    "Collapsed": "false"
   },
   "outputs": [],
   "source": [
    "def Decomp(z, show=False):\n",
    "    x = z[:2]\n",
    "    e = z[2:4]\n",
    "    y = z[4:6]\n",
    "    M0 = np.reshape(z[6:10], (2,2))\n",
    "    M1 = np.reshape(z[10:14], (2,2))\n",
    "    if show:\n",
    "        print('x = '+str(x))\n",
    "        print('e = '+str(e))\n",
    "        print('y = '+str(y))\n",
    "        print('M0 = '+str(M0[0]))\n",
    "        print('     '+str(M0[1]))\n",
    "        print('M1 = '+str(M1[0]))\n",
    "        print('     '+str(M1[1]))\n",
    "    return x, e, y, M0, M1\n",
    "\n",
    "def Recomp(x, e, y, M0, M1):\n",
    "    return np.concatenate((x,e,y,M0.flatten(),M1.flatten()))"
   ]
  },
  {
   "cell_type": "code",
   "execution_count": 84,
   "metadata": {
    "Collapsed": "false"
   },
   "outputs": [],
   "source": [
    "# 2v-2e-2v PC network\n",
    "def pc(t, z):\n",
    "    '''\n",
    "     z consist of:\n",
    "        z[0-1]   x (input layer)\n",
    "        z[2-3]   e\n",
    "        z[4-5]   y (output layer)\n",
    "        z[6-9]   M0 (weights for x-->e)\n",
    "        z[10-13] M1 (weights for e<--y)\n",
    "    '''\n",
    "    x = z[0:2]\n",
    "    e = z[2:4]\n",
    "    y = z[4:6]\n",
    "    M0 = np.reshape(z[6:10], (2,2))\n",
    "    M1 = np.reshape(z[10:], (2,2))\n",
    "    \n",
    "    s0 = 1.\n",
    "    s1 = -1.\n",
    "    \n",
    "    tau = 0.05\n",
    "    gamma = 0.1\n",
    "        \n",
    "    dxdt = ( -s0 * M0.T@e * alpha ) / tau\n",
    "    dedt = ( s0*M0@x + s1*M1@y - e ) / tau\n",
    "    dydt = ( -s1 * M1.T@e * beta ) / tau\n",
    "    dM0dt = ( -s0*np.outer(e,x) ) / gamma\n",
    "    dM1dt = ( -s1*np.outer(e,y) ) / gamma\n",
    "    \n",
    "    \n",
    "    dzdt = np.concatenate((dxdt, dedt, dydt, dM0dt.flatten(), dM1dt.flatten()))\n",
    "    return dzdt"
   ]
  },
  {
   "cell_type": "code",
   "execution_count": null,
   "metadata": {
    "Collapsed": "false"
   },
   "outputs": [],
   "source": [
    "def Train(net, iters):\n",
    "    for k in range(iters):\n",
    "        "
   ]
  },
  {
   "cell_type": "code",
   "execution_count": 225,
   "metadata": {
    "Collapsed": "false"
   },
   "outputs": [],
   "source": [
    "# Ideal Equilibrium\n",
    "alpha = 1.\n",
    "beta = 1.\n",
    "rho = 0.05\n",
    "lam = 0.05\n",
    "X = np.array([[1,0],[0,1]], dtype=float)\n",
    "Y = np.array([[1,0],[0,1]], dtype=float)\n",
    "x0 = X[0]\n",
    "e0 = np.zeros(2)\n",
    "y0 = Y[0]\n",
    "M0 = np.eye(2) #np.random.randn(2,2)\n",
    "M1 = np.eye(2) #np.random.randn(2,2)\n",
    "z0 = Recomp(x0, e0, y0, M0, M1)"
   ]
  },
  {
   "cell_type": "code",
   "execution_count": 184,
   "metadata": {
    "Collapsed": "false"
   },
   "outputs": [],
   "source": [
    "# De-something Equilibrium\n",
    "alpha = 1.\n",
    "beta = 1.\n",
    "X = np.array([[1,0],[0,1]], dtype=float)\n",
    "Y = np.array([[1,0],[0,1]], dtype=float)\n",
    "x0 = X[0]\n",
    "e0 = np.zeros(2)\n",
    "y0 = Y[0]\n",
    "M0 = np.zeros((2,2)) #np.random.randn(2,2)\n",
    "M1 = np.zeros((2,2)) #np.random.randn(2,2)\n",
    "z0 = Recomp(x0, e0, y0, M0, M1)"
   ]
  },
  {
   "cell_type": "code",
   "execution_count": 174,
   "metadata": {
    "Collapsed": "false"
   },
   "outputs": [],
   "source": [
    "# Random\n",
    "alpha = 0.\n",
    "beta = 1.\n",
    "x0 = np.random.rand(2)\n",
    "e0 = np.random.rand(2)\n",
    "y0 = np.random.rand(2)\n",
    "M0 = np.random.randn(2,2)\n",
    "M1 = np.random.randn(2,2)\n",
    "z0 = Recomp(x0, e0, y0, M0, M1)"
   ]
  },
  {
   "cell_type": "code",
   "execution_count": 226,
   "metadata": {
    "Collapsed": "false"
   },
   "outputs": [],
   "source": [
    "tspan = [0, 10]\n",
    "sol = solve_ivp(pc, tspan, z0)"
   ]
  },
  {
   "cell_type": "code",
   "execution_count": 227,
   "metadata": {
    "Collapsed": "false"
   },
   "outputs": [
    {
     "data": {
      "image/png": "[encoded data removed]",
      "text/plain": [
       "<Figure size 432x288 with 1 Axes>"
      ]
     },
     "metadata": {
      "needs_background": "light"
     },
     "output_type": "display_data"
    }
   ],
   "source": [
    "for y in sol.y:\n",
    "    plt.plot(sol.t, y);"
   ]
  },
  {
   "cell_type": "code",
   "execution_count": 228,
   "metadata": {
    "Collapsed": "false"
   },
   "outputs": [
    {
     "name": "stdout",
     "output_type": "stream",
     "text": [
      "x = [1. 0.]\n",
      "e = [0. 0.]\n",
      "y = [1. 0.]\n",
      "M0 = [0.1 0. ]\n",
      "     [0.  0.1]\n",
      "M1 = [1. 0.]\n",
      "     [0. 1.]\n"
     ]
    }
   ],
   "source": [
    "Decomp(z0, show=True);"
   ]
  },
  {
   "cell_type": "code",
   "execution_count": 229,
   "metadata": {
    "Collapsed": "false"
   },
   "outputs": [
    {
     "name": "stdout",
     "output_type": "stream",
     "text": [
      "x = [1.1252 0.    ]\n",
      "e = [2.0385e-06 0.0000e+00]\n",
      "y = [0.5304 0.    ]\n",
      "M0 = [0.3775 0.    ]\n",
      "     [0.  0.1]\n",
      "M1 = [0.8008 0.    ]\n",
      "     [0. 1.]\n"
     ]
    }
   ],
   "source": [
    "x,e,y,M0,M1 = Decomp(sol.y[:,-1], show=True)"
   ]
  },
  {
   "cell_type": "markdown",
   "metadata": {
    "Collapsed": "false"
   },
   "source": [
    "## Linear system"
   ]
  },
  {
   "cell_type": "code",
   "execution_count": 216,
   "metadata": {
    "Collapsed": "false"
   },
   "outputs": [],
   "source": [
    "def LinSys(z):\n",
    "    L = np.zeros((len(z), len(z)), dtype=float)\n",
    "    x,e,y,M0,M1 = Decomp(z)\n",
    "    s0 = 1.\n",
    "    s1 = -1.\n",
    "    # dxdt\n",
    "    L[0:2,2:4]   = -s0*M0.T  # e\n",
    "    L[0,6:8]     = -s0*e       # W0\n",
    "    L[1,8:10]    = -s0*e       # W0\n",
    "    # dedt\n",
    "    L[2:4,0:2]   = s0*M0\n",
    "    L[2:4,2:4]   = -np.eye(2)\n",
    "    L[2:4,4:6]   = s1*M1\n",
    "    L[2,6:8]     = s0*x\n",
    "    L[3,8:10]    = s0*x\n",
    "    L[2,10:12]   = s1*y\n",
    "    L[3,12:14]   = s1*y\n",
    "    # dydt\n",
    "    L[4:6,2:4]   = -s1*M1.T\n",
    "    L[4,10:12]   = -s1*e\n",
    "    L[5,12:14]   = -s1*e\n",
    "    # dM0dt\n",
    "    L[6:8,0:2]  = -s0*np.diag(e)\n",
    "    L[8:10,0:2] = -s0*np.diag(e)\n",
    "    L[6:8,2]    = -s0*x\n",
    "    L[8:10,3]   = -s0*x\n",
    "    L[6:10,6:10] = np.eye(4) * (rho/np.linalg.norm(M0, ord='fro') - lam)\n",
    "    # dM1dt\n",
    "    L[10:12,2]   = -s1*y\n",
    "    L[12:14,3]   = -s1*y\n",
    "    L[10:12,4:6] = -s1*np.diag(e)\n",
    "    L[12:14,4:6] = -s1*np.diag(e)\n",
    "    L[10:14,10:14] = np.eye(4) * (rho/np.linalg.norm(M1, ord='fro') - lam)\n",
    "    \n",
    "    return L"
   ]
  },
  {
   "cell_type": "code",
   "execution_count": 208,
   "metadata": {
    "Collapsed": "false"
   },
   "outputs": [],
   "source": [
    "rho = 0.05\n",
    "lam = 0.05"
   ]
  },
  {
   "cell_type": "code",
   "execution_count": 217,
   "metadata": {
    "Collapsed": "false"
   },
   "outputs": [],
   "source": [
    "L = LinSys(z0)"
   ]
  },
  {
   "cell_type": "code",
   "execution_count": 218,
   "metadata": {
    "Collapsed": "false"
   },
   "outputs": [
    {
     "name": "stdout",
     "output_type": "stream",
     "text": [
      "[-5.0246e-01+1.6621j -5.0246e-01-1.6621j -9.7149e-03+0.j\n",
      " -2.9176e-17+0.j     -5.0246e-01+1.6621j -5.0246e-01-1.6621j\n",
      "  8.7752e-17+0.j     -9.7149e-03+0.j     -1.4645e-02+0.j\n",
      " -1.4645e-02+0.j     -1.4645e-02+0.j     -1.4645e-02+0.j\n",
      " -1.4645e-02+0.j     -1.4645e-02+0.j    ]\n"
     ]
    }
   ],
   "source": [
    "evals, evecs = np.linalg.eig(L)\n",
    "print(evals)"
   ]
  },
  {
   "cell_type": "code",
   "execution_count": 210,
   "metadata": {
    "Collapsed": "false"
   },
   "outputs": [
    {
     "data": {
      "image/png": "[encoded data removed]",
      "text/plain": [
       "<Figure size 432x288 with 1 Axes>"
      ]
     },
     "metadata": {
      "needs_background": "light"
     },
     "output_type": "display_data"
    }
   ],
   "source": [
    "plt.plot(evals);"
   ]
  },
  {
   "cell_type": "code",
   "execution_count": 146,
   "metadata": {
    "Collapsed": "false"
   },
   "outputs": [],
   "source": [
    "import sympy"
   ]
  },
  {
   "cell_type": "code",
   "execution_count": null,
   "metadata": {
    "Collapsed": "false"
   },
   "outputs": [],
   "source": []
  }
 ],
 "metadata": {
  "kernelspec": {
   "display_name": "Python 3",
   "language": "python",
   "name": "python3"
  },
  "language_info": {
   "codemirror_mode": {
    "name": "ipython",
    "version": 3
   },
   "file_extension": ".py",
   "mimetype": "text/x-python",
   "name": "python",
   "nbconvert_exporter": "python",
   "pygments_lexer": "ipython3",
   "version": "3.7.4"
  }
 },
 "nbformat": 4,
 "nbformat_minor": 4
}
