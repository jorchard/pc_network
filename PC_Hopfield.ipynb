{
 "cells": [
  {
   "cell_type": "markdown",
   "metadata": {
    "Collapsed": "false"
   },
   "source": [
    "# PC-Hopfield Network\n",
    "Purpose: To try training a recurrent PC network as a Hopfield network."
   ]
  },
  {
   "cell_type": "code",
   "execution_count": 1,
   "metadata": {
    "Collapsed": "false"
   },
   "outputs": [],
   "source": [
    "import numpy as np\n",
    "import matplotlib.pyplot as plt\n",
    "import torch\n",
    "from torch.utils.data import Dataset, DataLoader\n",
    "import copy\n",
    "%load_ext autoreload\n",
    "%autoreload 1\n",
    "%aimport PCNetwork\n",
    "%aimport PCLayer\n",
    "%aimport PCConnection"
   ]
  },
  {
   "cell_type": "code",
   "execution_count": 2,
   "metadata": {
    "Collapsed": "false"
   },
   "outputs": [],
   "source": [
    "dtype = torch.float32\n",
    "if torch.cuda.is_available():\n",
    "    device = torch.device(\"cuda:0\") # Uncomment this to run on GPU\n",
    "else:\n",
    "    device = torch.device(\"cpu\")"
   ]
  },
  {
   "cell_type": "code",
   "execution_count": 3,
   "metadata": {},
   "outputs": [
    {
     "data": {
      "text/html": [
       "<style>.container { width:98% !important; }</style>"
      ],
      "text/plain": [
       "<IPython.core.display.HTML object>"
      ]
     },
     "metadata": {},
     "output_type": "display_data"
    }
   ],
   "source": [
    "from IPython.core.display import display, HTML\n",
    "display(HTML(\"<style>.container { width:98% !important; }</style>\"))\n",
    "np.set_printoptions(edgeitems=30, linewidth=250, formatter=dict(float=lambda x: \"% .4f\" % x))"
   ]
  },
  {
   "cell_type": "code",
   "execution_count": 4,
   "metadata": {},
   "outputs": [],
   "source": [
    "def Hamming(X, Y):\n",
    "    '''\n",
    "     H = Hamming(X, Y)\n",
    "     \n",
    "     Computes the Hamming distance between rows of X and Y.\n",
    "     If X and/or Y have multiple rows, then the output will\n",
    "     be an array.\n",
    "     \n",
    "     Inputs:\n",
    "      X   (M,D) array\n",
    "      Y   (N,D) array\n",
    "      \n",
    "     Output:\n",
    "      H   (M,N) array\n",
    "    '''\n",
    "    H = np.zeros((len(X), len(Y)), dtype=int)\n",
    "    for i,x in enumerate(X):\n",
    "        for j,y in enumerate(Y):\n",
    "            H[i,j] = torch.sum(x*y<=0.)\n",
    "    return H\n",
    "\n",
    "def Perturb(x, p=0., n=0):\n",
    "    '''\n",
    "        y = Perturb(x, p=0., n=0)\n",
    "        \n",
    "        Apply binary noise to x. With probability p, each bit will be randomly\n",
    "        set to -1 or 1.\n",
    "        \n",
    "        Inputs:\n",
    "          x is an array of binary vectors of {-1,1}\n",
    "          p is the probability of each bit being randomly flipped (n=0)\n",
    "          n is the number of bits to flip (p=0)\n",
    "        \n",
    "        Output:\n",
    "          y is an array of binary vectors of {-1,1}\n",
    "    '''\n",
    "    y = copy.deepcopy(x)\n",
    "    for yy in y:\n",
    "        if p!=0.:\n",
    "            for k in range(len(yy)):\n",
    "                if np.random.rand()<p:\n",
    "                    yy[k] = Thresh(np.random.randint(2)*2-1)\n",
    "        if n>0:\n",
    "            k = np.random.randint(len(yy), size=n)\n",
    "            yy[k] *= -1\n",
    "    return y\n"
   ]
  },
  {
   "cell_type": "markdown",
   "metadata": {
    "Collapsed": "false"
   },
   "source": [
    "# Dataset"
   ]
  },
  {
   "cell_type": "code",
   "execution_count": 5,
   "metadata": {},
   "outputs": [],
   "source": [
    "# class SimpleDataset(Dataset):\n",
    "#     def __init__(self, A, B, n=300, noise=0.1):\n",
    "#         self.samples = []\n",
    "#         n_classes = len(A)\n",
    "#         for i in range(n):\n",
    "#             r = np.random.randint(n_classes)\n",
    "#             sample = [A[r]+noise*torch.randn_like(A[r]), B[r]]\n",
    "#             self.samples.append(sample)\n",
    "        \n",
    "#     def __getitem__(self, idx):\n",
    "#         return self.samples[idx]\n",
    "        \n",
    "#     def __len__(self):\n",
    "#         return len(self.samples)\n",
    "\n",
    "# Zeta = torch.rand((4,10,))\n",
    "# print(Zeta)\n",
    "#blah = SimpleDataset(Zeta, Zeta, n=100, noise=0.0)"
   ]
  },
  {
   "cell_type": "code",
   "execution_count": 6,
   "metadata": {},
   "outputs": [],
   "source": [
    "class BipolarDataset(Dataset):\n",
    "    def __init__(self, A, n=300, noise=0.1):\n",
    "        self.samples = []\n",
    "        n_classes = len(A)\n",
    "        for i in range(n):\n",
    "            r = np.random.randint(n_classes)\n",
    "            blah = Perturb(A[r], p=0.)\n",
    "            sample = [blah, blah]\n",
    "            self.samples.append(sample)\n",
    "        \n",
    "    def __getitem__(self, idx):\n",
    "        return self.samples[idx]\n",
    "        \n",
    "    def __len__(self):\n",
    "        return len(self.samples)"
   ]
  },
  {
   "cell_type": "code",
   "execution_count": 7,
   "metadata": {},
   "outputs": [
    {
     "name": "stdout",
     "output_type": "stream",
     "text": [
      "12 target patterns\n",
      "Hamming Distances:\n",
      "[[0 4 2 3]\n",
      " [4 0 6 7]\n",
      " [2 6 0 3]\n",
      " [3 7 3 0]]\n"
     ]
    }
   ],
   "source": [
    "# Random binary Vectors\n",
    "X = np.random.binomial(n=1, p=0.5, size=(4,12))\n",
    "Zeta = torch.tensor(2*X - 1, dtype=torch.float)\n",
    "Zeta_c = 10.*Zeta\n",
    "N = np.shape(Zeta)[1]\n",
    "print(f'{N} target patterns')\n",
    "print(f'Hamming Distances:\\n{np.array(Hamming(Zeta, Zeta), dtype=int)}')\n",
    "\n",
    "bipolar_ds = BipolarDataset(Zeta_c, n=30, noise=0.)"
   ]
  },
  {
   "cell_type": "markdown",
   "metadata": {
    "Collapsed": "false"
   },
   "source": [
    "# Create Network"
   ]
  },
  {
   "cell_type": "code",
   "execution_count": 8,
   "metadata": {
    "Collapsed": "false"
   },
   "outputs": [],
   "source": [
    "N_neurons = 12\n",
    "net = PCNetwork.PCNetwork()\n",
    "\n",
    "net.AddLayer(PCLayer.PCLayer(n=N_neurons))  # 0 (v0)\n",
    "net.AddLayer(PCLayer.PCLayer(n=N_neurons, type='error'))  # 1 (e1)\n",
    "net.AddLayer(PCLayer.PCLayer(n=N_neurons))  # 2 (v1)\n",
    "\n",
    "net.Connect(v_idx=0, e_idx=1, type='1to1')\n",
    "net.Connect(e_idx=1, v_idx=2, type='1to1')\n",
    "net.Connect(v_idx=2, e_idx=1, lower_layer=2, type='general', sym=True, act_text='tanh')\n",
    "\n",
    "net.SetTau(0.05)\n",
    "net.SetGamma(0.2)"
   ]
  },
  {
   "cell_type": "code",
   "execution_count": 9,
   "metadata": {},
   "outputs": [
    {
     "name": "stderr",
     "output_type": "stream",
     "text": [
      "/Users/jorchard/Dropbox/research/pc_network/PCConnection.py:379: UserWarning: To copy construct from a tensor, it is recommended to use sourceTensor.clone().detach() or sourceTensor.clone().detach().requires_grad_(True), rather than torch.tensor(sourceTensor).\n",
      "  self.M = torch.tensor(deepcopy(M))\n"
     ]
    }
   ],
   "source": [
    "net.con[0].SetIdentity(mult=0.)\n",
    "net.con[2].SetRandom(random=0.7)\n",
    "XX = Zeta_c.transpose(1,0)@Zeta_c / N_neurons / 4.\n",
    "XX -= torch.diag(XX)\n",
    "net.con[2].SetWeights(XX.clone().detach())"
   ]
  },
  {
   "cell_type": "code",
   "execution_count": 10,
   "metadata": {},
   "outputs": [
    {
     "name": "stdout",
     "output_type": "stream",
     "text": [
      "tensor(1.)\n",
      "tensor([[0., 0., 0., 0., 0., 0., 0., 0., 0., 0., 0., 0.],\n",
      "        [0., 0., 0., 0., 0., 0., 0., 0., 0., 0., 0., 0.],\n",
      "        [0., 0., 0., 0., 0., 0., 0., 0., 0., 0., 0., 0.],\n",
      "        [0., 0., 0., 0., 0., 0., 0., 0., 0., 0., 0., 0.],\n",
      "        [0., 0., 0., 0., 0., 0., 0., 0., 0., 0., 0., 0.],\n",
      "        [0., 0., 0., 0., 0., 0., 0., 0., 0., 0., 0., 0.],\n",
      "        [0., 0., 0., 0., 0., 0., 0., 0., 0., 0., 0., 0.],\n",
      "        [0., 0., 0., 0., 0., 0., 0., 0., 0., 0., 0., 0.],\n",
      "        [0., 0., 0., 0., 0., 0., 0., 0., 0., 0., 0., 0.],\n",
      "        [0., 0., 0., 0., 0., 0., 0., 0., 0., 0., 0., 0.],\n",
      "        [0., 0., 0., 0., 0., 0., 0., 0., 0., 0., 0., 0.],\n",
      "        [0., 0., 0., 0., 0., 0., 0., 0., 0., 0., 0., 0.]])\n",
      "tensor(-1.)\n",
      "tensor([[1., 0., 0., 0., 0., 0., 0., 0., 0., 0., 0., 0.],\n",
      "        [0., 1., 0., 0., 0., 0., 0., 0., 0., 0., 0., 0.],\n",
      "        [0., 0., 1., 0., 0., 0., 0., 0., 0., 0., 0., 0.],\n",
      "        [0., 0., 0., 1., 0., 0., 0., 0., 0., 0., 0., 0.],\n",
      "        [0., 0., 0., 0., 1., 0., 0., 0., 0., 0., 0., 0.],\n",
      "        [0., 0., 0., 0., 0., 1., 0., 0., 0., 0., 0., 0.],\n",
      "        [0., 0., 0., 0., 0., 0., 1., 0., 0., 0., 0., 0.],\n",
      "        [0., 0., 0., 0., 0., 0., 0., 1., 0., 0., 0., 0.],\n",
      "        [0., 0., 0., 0., 0., 0., 0., 0., 1., 0., 0., 0.],\n",
      "        [0., 0., 0., 0., 0., 0., 0., 0., 0., 1., 0., 0.],\n",
      "        [0., 0., 0., 0., 0., 0., 0., 0., 0., 0., 1., 0.],\n",
      "        [0., 0., 0., 0., 0., 0., 0., 0., 0., 0., 0., 1.]])\n",
      "tensor(1.)\n",
      "tensor([[  0.0000,  -4.1667,  -4.1667, -12.5000,  -4.1667,   0.0000,  -4.1667,\n",
      "          -4.1667, -12.5000, -16.6667, -16.6667,  -8.3333],\n",
      "        [ -4.1667,   0.0000,  -8.3333, -16.6667,  -8.3333,  -4.1667,  -8.3333,\n",
      "           0.0000, -16.6667, -12.5000, -12.5000, -12.5000],\n",
      "        [ -4.1667,  -8.3333,   0.0000,  -8.3333,  -8.3333,  -4.1667,   0.0000,\n",
      "          -8.3333,  -8.3333, -12.5000, -12.5000,  -4.1667],\n",
      "        [-12.5000, -16.6667,  -8.3333,   0.0000,  -8.3333, -12.5000,  -8.3333,\n",
      "         -16.6667,   0.0000,  -4.1667,  -4.1667,  -4.1667],\n",
      "        [ -4.1667,  -8.3333,  -8.3333,  -8.3333,   0.0000,  -4.1667,  -8.3333,\n",
      "          -8.3333,  -8.3333, -12.5000, -12.5000,  -4.1667],\n",
      "        [  0.0000,  -4.1667,  -4.1667, -12.5000,  -4.1667,   0.0000,  -4.1667,\n",
      "          -4.1667, -12.5000, -16.6667, -16.6667,  -8.3333],\n",
      "        [ -4.1667,  -8.3333,   0.0000,  -8.3333,  -8.3333,  -4.1667,   0.0000,\n",
      "          -8.3333,  -8.3333, -12.5000, -12.5000,  -4.1667],\n",
      "        [ -4.1667,   0.0000,  -8.3333, -16.6667,  -8.3333,  -4.1667,  -8.3333,\n",
      "           0.0000, -16.6667, -12.5000, -12.5000, -12.5000],\n",
      "        [-12.5000, -16.6667,  -8.3333,   0.0000,  -8.3333, -12.5000,  -8.3333,\n",
      "         -16.6667,   0.0000,  -4.1667,  -4.1667,  -4.1667],\n",
      "        [-16.6667, -12.5000, -12.5000,  -4.1667, -12.5000, -16.6667, -12.5000,\n",
      "         -12.5000,  -4.1667,   0.0000,   0.0000,  -8.3333],\n",
      "        [-16.6667, -12.5000, -12.5000,  -4.1667, -12.5000, -16.6667, -12.5000,\n",
      "         -12.5000,  -4.1667,   0.0000,   0.0000,  -8.3333],\n",
      "        [ -8.3333, -12.5000,  -4.1667,  -4.1667,  -4.1667,  -8.3333,  -4.1667,\n",
      "         -12.5000,  -4.1667,  -8.3333,  -8.3333,   0.0000]])\n"
     ]
    }
   ],
   "source": [
    "for c in net.con:\n",
    "    print(c.M_sign)\n",
    "    print(c.M)"
   ]
  },
  {
   "cell_type": "code",
   "execution_count": 11,
   "metadata": {},
   "outputs": [
    {
     "name": "stdout",
     "output_type": "stream",
     "text": [
      "tensor([0., 0., 0., 0., 0., 0., 0., 0., 0., 0., 0., 0.])\n",
      "tensor([0., 0., 0., 0., -0., 0., 0., 0., 0., 0., 0., 0.])\n",
      "tensor([0., 0., 0., 0., 0., 0., 0., 0., 0., 0., 0., 0.])\n"
     ]
    }
   ],
   "source": [
    "for l in net.lyr:\n",
    "    print(l.bias)"
   ]
  },
  {
   "cell_type": "code",
   "execution_count": 12,
   "metadata": {
    "Collapsed": "false"
   },
   "outputs": [],
   "source": [
    "#net.Save('my.net')\n",
    "#net2 = PCNetwork.PCNetwork.Load('my.net')"
   ]
  },
  {
   "cell_type": "markdown",
   "metadata": {
    "Collapsed": "false"
   },
   "source": [
    "# Train it"
   ]
  },
  {
   "cell_type": "code",
   "execution_count": 13,
   "metadata": {},
   "outputs": [],
   "source": [
    "bipolar_ds = BipolarDataset(Zeta_c, n=10, noise=0.)\n",
    "bipolar_dl = DataLoader(bipolar_ds, batch_size=4, shuffle=True)"
   ]
  },
  {
   "cell_type": "code",
   "execution_count": 14,
   "metadata": {},
   "outputs": [
    {
     "data": {
      "text/plain": [
       "[[tensor([-10., -10.,  10.,  10., -10., -10.,  10., -10.,  10.,  10.,  10.,  10.]),\n",
       "  tensor([-10., -10.,  10.,  10., -10., -10.,  10., -10.,  10.,  10.,  10.,  10.])],\n",
       " [tensor([-10., -10., -10.,  10.,  10., -10., -10., -10.,  10.,  10.,  10.,  10.]),\n",
       "  tensor([-10., -10., -10.,  10.,  10., -10., -10., -10.,  10.,  10.,  10.,  10.])],\n",
       " [tensor([-10.,  10., -10., -10., -10., -10., -10.,  10., -10.,  10.,  10., -10.]),\n",
       "  tensor([-10.,  10., -10., -10., -10., -10., -10.,  10., -10.,  10.,  10., -10.])],\n",
       " [tensor([-10.,  10., -10., -10., -10., -10., -10.,  10., -10.,  10.,  10., -10.]),\n",
       "  tensor([-10.,  10., -10., -10., -10., -10., -10.,  10., -10.,  10.,  10., -10.])],\n",
       " [tensor([-10., -10., -10.,  10.,  10., -10., -10., -10.,  10.,  10.,  10.,  10.]),\n",
       "  tensor([-10., -10., -10.,  10.,  10., -10., -10., -10.,  10.,  10.,  10.,  10.])],\n",
       " [tensor([-10., -10.,  10.,  10., -10., -10.,  10., -10.,  10.,  10.,  10.,  10.]),\n",
       "  tensor([-10., -10.,  10.,  10., -10., -10.,  10., -10.,  10.,  10.,  10.,  10.])],\n",
       " [tensor([-10., -10., -10.,  10., -10., -10., -10., -10.,  10.,  10.,  10., -10.]),\n",
       "  tensor([-10., -10., -10.,  10., -10., -10., -10., -10.,  10.,  10.,  10., -10.])],\n",
       " [tensor([-10., -10., -10.,  10.,  10., -10., -10., -10.,  10.,  10.,  10.,  10.]),\n",
       "  tensor([-10., -10., -10.,  10.,  10., -10., -10., -10.,  10.,  10.,  10.,  10.])],\n",
       " [tensor([-10.,  10., -10., -10., -10., -10., -10.,  10., -10.,  10.,  10., -10.]),\n",
       "  tensor([-10.,  10., -10., -10., -10., -10., -10.,  10., -10.,  10.,  10., -10.])],\n",
       " [tensor([-10., -10., -10.,  10.,  10., -10., -10., -10.,  10.,  10.,  10.,  10.]),\n",
       "  tensor([-10., -10., -10.,  10.,  10., -10., -10., -10.,  10.,  10.,  10.,  10.])]]"
      ]
     },
     "execution_count": 14,
     "metadata": {},
     "output_type": "execute_result"
    }
   ],
   "source": [
    "bipolar_ds.samples"
   ]
  },
  {
   "cell_type": "code",
   "execution_count": 15,
   "metadata": {
    "Collapsed": "false"
   },
   "outputs": [
    {
     "name": "stderr",
     "output_type": "stream",
     "text": [
      "100%|██████████| 10/10 [00:07<00:00,  1.28it/s]\n"
     ]
    }
   ],
   "source": [
    "net.Reset()\n",
    "net.Learn(bipolar_dl, T=1., epochs=10)"
   ]
  },
  {
   "cell_type": "code",
   "execution_count": 16,
   "metadata": {},
   "outputs": [
    {
     "data": {
      "text/plain": [
       "tensor([-4.3214, -2.7751, -2.4092,  4.0084, -2.0342, -4.3136, -2.4051, -2.7765,\n",
       "         4.0108,  5.5565,  5.5578, -0.1196])"
      ]
     },
     "execution_count": 16,
     "metadata": {},
     "output_type": "execute_result"
    }
   ],
   "source": [
    "net.lyr[1].bias"
   ]
  },
  {
   "cell_type": "code",
   "execution_count": 17,
   "metadata": {},
   "outputs": [
    {
     "data": {
      "text/plain": [
       "tensor([[ -4.3207,  -6.9450,  -6.5738,  -8.4866,  -6.2043,  -4.3226,  -6.5745,\n",
       "          -6.9449,  -8.4871, -11.1112, -11.1116,  -8.4577],\n",
       "        [ -8.3335,  -5.8333,  -8.3333, -10.8335,  -8.3334,  -8.3334,  -8.3334,\n",
       "          -5.8334, -10.8335,  -8.3333,  -8.3333,  -8.3333],\n",
       "        [ -0.8642,  -1.3890,   2.6852,  -1.6973,  -3.2408,  -0.8645,   2.6851,\n",
       "          -1.3889,  -1.6974,  -2.2223,  -2.2223,   0.3084],\n",
       "        [ -8.3332, -10.8333,  -8.3334,  -5.8332,  -8.3333,  -8.3333,  -8.3334,\n",
       "         -10.8335,  -5.8332,  -8.3333,  -8.3333,  -8.3334],\n",
       "        [ -1.7283,  -2.7780,  -4.6295,  -3.3946,   3.5183,  -1.7291,  -4.6298,\n",
       "          -2.7779,  -3.3948,  -4.4446,  -4.4446,   0.6169],\n",
       "        [ -4.3207,  -6.9450,  -6.5738,  -8.4866,  -6.2043,  -4.3226,  -6.5745,\n",
       "          -6.9449,  -8.4871, -11.1112, -11.1116,  -8.4577],\n",
       "        [ -0.8642,  -1.3890,   2.6852,  -1.6973,  -3.2408,  -0.8645,   2.6851,\n",
       "          -1.3889,  -1.6974,  -2.2223,  -2.2223,   0.3084],\n",
       "        [ -8.3335,  -5.8333,  -8.3333, -10.8335,  -8.3334,  -8.3334,  -8.3334,\n",
       "          -5.8334, -10.8335,  -8.3333,  -8.3333,  -8.3333],\n",
       "        [ -8.3332, -10.8333,  -8.3334,  -5.8332,  -8.3333,  -8.3333,  -8.3334,\n",
       "         -10.8335,  -5.8332,  -8.3333,  -8.3333,  -8.3334],\n",
       "        [-12.3458,  -9.7215, -10.0929,  -8.1800, -10.4624, -12.3440, -10.0920,\n",
       "          -9.7219,  -8.1795,  -5.5553,  -5.5551,  -8.2091],\n",
       "        [-12.3458,  -9.7215, -10.0929,  -8.1800, -10.4624, -12.3440, -10.0920,\n",
       "          -9.7219,  -8.1795,  -5.5553,  -5.5551,  -8.2091],\n",
       "        [  1.7283,   2.7780,   4.6295,   3.3946,   6.4817,   1.7291,   4.6299,\n",
       "           2.7779,   3.3947,   4.4446,   4.4446,   9.3831]])"
      ]
     },
     "execution_count": 17,
     "metadata": {},
     "output_type": "execute_result"
    }
   ],
   "source": [
    "net.con[2].M"
   ]
  },
  {
   "cell_type": "markdown",
   "metadata": {},
   "source": [
    "## Test it"
   ]
  },
  {
   "cell_type": "code",
   "execution_count": 18,
   "metadata": {},
   "outputs": [],
   "source": [
    "net.Reset()"
   ]
  },
  {
   "cell_type": "code",
   "execution_count": 19,
   "metadata": {},
   "outputs": [],
   "source": [
    "foo = Zeta_c.clone().detach() / 1.\n",
    "net.SetInput(foo)\n",
    "net.lyr[-1].SetState(foo, random=0.01)\n",
    "foo = Perturb(foo, n=2)\n",
    "net.lyr[-1].SetState(foo)\n",
    "#net.lyr[-1].ResetState(random=0.1)\n",
    "net.lyr[0].Clamped(True)\n",
    "net.lyr[-1].Clamped(False)\n",
    "net.lyr[1].ResetState(random=0.1)"
   ]
  },
  {
   "cell_type": "code",
   "execution_count": 20,
   "metadata": {},
   "outputs": [
    {
     "data": {
      "text/plain": [
       "array([[2, 2, 4, 5],\n",
       "       [4, 2, 6, 7],\n",
       "       [4, 6, 2, 3],\n",
       "       [3, 5, 3, 2]])"
      ]
     },
     "execution_count": 20,
     "metadata": {},
     "output_type": "execute_result"
    }
   ],
   "source": [
    "Hamming(foo, Zeta_c)"
   ]
  },
  {
   "cell_type": "code",
   "execution_count": 21,
   "metadata": {},
   "outputs": [
    {
     "data": {
      "text/plain": [
       "tensor([[-10., -10., -10., -10., -10., -10., -10.,  10.,  10.,  10.,  10., -10.],\n",
       "        [ 10.,  10., -10., -10., -10., -10., -10.,  10.,  10.,  10.,  10., -10.],\n",
       "        [-10.,  10., -10.,  10.,  10., -10.,  10., -10.,  10.,  10.,  10.,  10.],\n",
       "        [-10., -10., -10., -10., -10., -10.,  10., -10.,  10.,  10.,  10.,  10.]])"
      ]
     },
     "execution_count": 21,
     "metadata": {},
     "output_type": "execute_result"
    }
   ],
   "source": [
    "net.lyr[-1].x"
   ]
  },
  {
   "cell_type": "code",
   "execution_count": 22,
   "metadata": {
    "Collapsed": "false"
   },
   "outputs": [],
   "source": [
    "net.lyr[0].Probe(True)\n",
    "net.lyr[1].Probe(True)\n",
    "net.lyr[2].Probe(True)\n",
    "net.Learning(False)"
   ]
  },
  {
   "cell_type": "code",
   "execution_count": 23,
   "metadata": {},
   "outputs": [],
   "source": [
    "net.Run(1., dt=0.001)"
   ]
  },
  {
   "cell_type": "code",
   "execution_count": null,
   "metadata": {
    "Collapsed": "false",
    "scrolled": false
   },
   "outputs": [],
   "source": [
    "net.Plot(idx=0);"
   ]
  },
  {
   "cell_type": "code",
   "execution_count": 1174,
   "metadata": {},
   "outputs": [
    {
     "data": {
      "text/plain": [
       "array([[ 2,  5, 12,  5],\n",
       "       [ 5,  0,  7,  6],\n",
       "       [ 7,  6,  3,  6],\n",
       "       [ 7,  6,  7,  0]])"
      ]
     },
     "execution_count": 1174,
     "metadata": {},
     "output_type": "execute_result"
    }
   ],
   "source": [
    "Hamming(Zeta_c, net.lyr[-1].x)"
   ]
  },
  {
   "cell_type": "code",
   "execution_count": 1129,
   "metadata": {
    "Collapsed": "false"
   },
   "outputs": [
    {
     "data": {
      "text/plain": [
       "tensor([[-29.1667,  37.5000, -12.5000, -29.1667, -37.5000,  45.8333, -45.8333,\n",
       "         -45.8333,  37.5000,  12.5000,  20.8333,  37.5000],\n",
       "        [ -5.1658,  28.7621,  -4.9907,  -5.1658, -29.7463,  37.3407, -38.3248,\n",
       "         -38.3248,  12.7602,  20.0085,  28.5871,  12.7602],\n",
       "        [ 29.1667, -37.5000,  12.5000,  29.1667,  37.5000, -45.8333,  45.8333,\n",
       "          45.8333, -37.5000, -12.5000, -20.8333, -37.5000],\n",
       "        [  4.1686, -37.4801, -45.8194,   4.1686,   4.1707,  12.5139, -45.8234,\n",
       "         -45.8234,  12.5159, -37.4861,  12.5080,  12.5159]])"
      ]
     },
     "execution_count": 1129,
     "metadata": {},
     "output_type": "execute_result"
    }
   ],
   "source": [
    "net.con[2].sigma() @ net.con[2].M"
   ]
  },
  {
   "cell_type": "code",
   "execution_count": 1130,
   "metadata": {
    "scrolled": true
   },
   "outputs": [
    {
     "data": {
      "text/plain": [
       "tensor([[-29.1666,  37.5000, -12.5000, -29.1666, -37.5000,  45.8333, -45.8334,\n",
       "         -45.8334,  37.5000,  12.5000,  20.8334,  37.5000],\n",
       "        [ -5.1412,  28.7621,  -4.9680,   2.2734, -29.7463,  37.3407, -38.3249,\n",
       "         -38.3249,  -1.5899,  20.0085,  28.5871,  12.7601],\n",
       "        [ 29.1666, -37.5000,  12.5000,  29.1666,  37.5000, -45.8333,  45.8334,\n",
       "          45.8334, -37.5000, -12.5000, -20.8334, -37.5000],\n",
       "        [  4.1687, -37.4800, -45.8193,   4.1687,   4.1707,  12.5139, -45.8233,\n",
       "         -45.8233,  12.5159, -37.4860,  12.5080,  12.5159]])"
      ]
     },
     "execution_count": 1130,
     "metadata": {},
     "output_type": "execute_result"
    }
   ],
   "source": [
    "net.lyr[-1].x"
   ]
  },
  {
   "cell_type": "markdown",
   "metadata": {},
   "source": [
    "## Many Perturbed Runs"
   ]
  },
  {
   "cell_type": "code",
   "execution_count": 922,
   "metadata": {},
   "outputs": [],
   "source": [
    "x0 = Zeta_c[1]\n",
    "ins = torch.vstack((x0, x0, x0, x0, x0, x0))\n",
    "ins += torch.normal(torch.zeros_like(ins))"
   ]
  },
  {
   "cell_type": "code",
   "execution_count": 923,
   "metadata": {},
   "outputs": [],
   "source": [
    "net.Reset()\n",
    "net.SetInput(ins)\n",
    "net.lyr[-1].SetState(ins)\n",
    "#net.lyr[-1].ResetState(random=0.1)\n",
    "net.lyr[0].Clamped(True)\n",
    "net.lyr[-1].Clamped(False)\n",
    "net.lyr[1].ResetState(random=0.1)"
   ]
  },
  {
   "cell_type": "code",
   "execution_count": 924,
   "metadata": {},
   "outputs": [],
   "source": [
    "net.Run(1., dt=0.001)"
   ]
  },
  {
   "cell_type": "code",
   "execution_count": 925,
   "metadata": {},
   "outputs": [
    {
     "data": {
      "text/plain": [
       "tensor([[-55000.9922, -45000.7852,   5000.0864, -55000.9922,  15000.2666,\n",
       "          15000.2666,  25000.4453,  25000.4453,  15000.2666, -45000.7852,\n",
       "           5000.0864, -45000.7852],\n",
       "        [-55000.9922, -45000.7852,   5000.0864, -55000.9922,  15000.2666,\n",
       "          15000.2666,  25000.4453,  25000.4473,  15000.2666, -45000.7852,\n",
       "           5000.0864, -45000.7852],\n",
       "        [-55000.9922, -45000.7852,   5000.0864, -55000.9922,  15000.2666,\n",
       "          15000.2666,  25000.4473,  25000.4473,  15000.2666, -45000.7852,\n",
       "           5000.0864, -45000.7852],\n",
       "        [-55000.9922, -45000.7852,   5000.0864, -55000.9922,  15000.2666,\n",
       "          15000.2666,  25000.4473,  25000.4473,  15000.2666, -45000.7852,\n",
       "           5000.0864, -45000.7852],\n",
       "        [-55000.9922, -45000.7852,   5000.0864, -55000.9922,  15000.2666,\n",
       "          15000.2666,  25000.4453,  25000.4473,  15000.2666, -45000.7852,\n",
       "           5000.0864, -45000.7852],\n",
       "        [-55000.9922, -45000.7852,   5000.0864, -55000.9922,  15000.2666,\n",
       "          15000.2666,  25000.4473,  25000.4473,  15000.2666, -45000.7852,\n",
       "           5000.0864, -45000.7852]])"
      ]
     },
     "execution_count": 925,
     "metadata": {},
     "output_type": "execute_result"
    }
   ],
   "source": [
    "net.lyr[-1].x"
   ]
  },
  {
   "cell_type": "code",
   "execution_count": 926,
   "metadata": {},
   "outputs": [
    {
     "data": {
      "text/plain": [
       "tensor([[-55000., -45000.,   5000., -55000.,  15000.,  15000.,  25000.,  25000.,\n",
       "          15000., -45000.,   5000., -45000.],\n",
       "        [-55000., -45000.,   5000., -55000.,  15000.,  15000.,  25000.,  25000.,\n",
       "          15000., -45000.,   5000., -45000.],\n",
       "        [-55000., -45000.,   5000., -55000.,  15000.,  15000.,  25000.,  25000.,\n",
       "          15000., -45000.,   5000., -45000.],\n",
       "        [-55000., -45000.,   5000., -55000.,  15000.,  15000.,  25000.,  25000.,\n",
       "          15000., -45000.,   5000., -45000.],\n",
       "        [-55000., -45000.,   5000., -55000.,  15000.,  15000.,  25000.,  25000.,\n",
       "          15000., -45000.,   5000., -45000.],\n",
       "        [-55000., -45000.,   5000., -55000.,  15000.,  15000.,  25000.,  25000.,\n",
       "          15000., -45000.,   5000., -45000.]])"
      ]
     },
     "execution_count": 926,
     "metadata": {},
     "output_type": "execute_result"
    }
   ],
   "source": [
    "net.con[2].sigma() @ net.con[2].M"
   ]
  },
  {
   "cell_type": "code",
   "execution_count": 927,
   "metadata": {
    "scrolled": true
   },
   "outputs": [
    {
     "data": {
      "image/png": "[encoded data removed]",
      "text/plain": [
       "<Figure size 720x288 with 3 Axes>"
      ]
     },
     "metadata": {
      "needs_background": "light"
     },
     "output_type": "display_data"
    }
   ],
   "source": [
    "net.Plot();"
   ]
  },
  {
   "cell_type": "code",
   "execution_count": null,
   "metadata": {},
   "outputs": [],
   "source": []
  }
 ],
 "metadata": {
  "kernelspec": {
   "display_name": "Python 3",
   "language": "python",
   "name": "python3"
  },
  "language_info": {
   "codemirror_mode": {
    "name": "ipython",
    "version": 3
   },
   "file_extension": ".py",
   "mimetype": "text/x-python",
   "name": "python",
   "nbconvert_exporter": "python",
   "pygments_lexer": "ipython3",
   "version": "3.8.3"
  },
  "toc-showcode": false,
  "toc-showtags": false
 },
 "nbformat": 4,
 "nbformat_minor": 4
}
