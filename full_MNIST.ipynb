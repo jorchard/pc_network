{
 "cells": [
  {
   "cell_type": "markdown",
   "metadata": {
    "Collapsed": "false"
   },
   "source": [
    "# Full-Learning MNIST PC Network\n",
    "Purpose: To see if we can learn not only (v)<->(e) connections, but also the (e)<->(v) connections. Those connections have previously been set to 1:1 identity mappings. But here they start as random connection weights, and learn using the same update rule as the other learning connections."
   ]
  },
  {
   "cell_type": "code",
   "execution_count": 71,
   "metadata": {
    "Collapsed": "false"
   },
   "outputs": [
    {
     "name": "stdout",
     "output_type": "stream",
     "text": [
      "The autoreload extension is already loaded. To reload it, use:\n",
      "  %reload_ext autoreload\n"
     ]
    }
   ],
   "source": [
    "import numpy as np\n",
    "import matplotlib.pyplot as plt\n",
    "from copy import deepcopy\n",
    "import torch\n",
    "from torch.utils.data import Dataset, DataLoader\n",
    "from torchvision import  datasets, transforms\n",
    "from IPython.display import display\n",
    "from ipywidgets import FloatProgress\n",
    "\n",
    "%load_ext autoreload\n",
    "%autoreload 1\n",
    "%aimport PCNetwork\n",
    "%aimport PCLayer\n",
    "%aimport PCConnection\n",
    "\n",
    "np.set_printoptions(precision=4)\n",
    "\n",
    "dtype = torch.float32\n",
    "if torch.cuda.is_available():\n",
    "    device = torch.device(\"cuda:5\") # Uncomment this to run on GPU\n",
    "else:\n",
    "    device = torch.device(\"cpu\")"
   ]
  },
  {
   "cell_type": "markdown",
   "metadata": {
    "Collapsed": "false"
   },
   "source": [
    "# Dataset"
   ]
  },
  {
   "cell_type": "code",
   "execution_count": 3,
   "metadata": {
    "Collapsed": "false"
   },
   "outputs": [
    {
     "name": "stdout",
     "output_type": "stream",
     "text": [
      "Downloading http://yann.lecun.com/exdb/mnist/train-images-idx3-ubyte.gz to ../data/MNIST/raw/train-images-idx3-ubyte.gz\n"
     ]
    },
    {
     "data": {
      "application/vnd.jupyter.widget-view+json": {
       "model_id": "c558c28bf9994677908042e32f34efaa",
       "version_major": 2,
       "version_minor": 0
      },
      "text/plain": [
       "HBox(children=(IntProgress(value=1, bar_style='info', max=1), HTML(value='')))"
      ]
     },
     "metadata": {},
     "output_type": "display_data"
    },
    {
     "name": "stdout",
     "output_type": "stream",
     "text": [
      "\n",
      "Extracting ../data/MNIST/raw/train-images-idx3-ubyte.gz to ../data/MNIST/raw\n",
      "Downloading http://yann.lecun.com/exdb/mnist/train-labels-idx1-ubyte.gz to ../data/MNIST/raw/train-labels-idx1-ubyte.gz\n"
     ]
    },
    {
     "data": {
      "application/vnd.jupyter.widget-view+json": {
       "model_id": "8e59d900b9c547cc9f7e8cbc90062641",
       "version_major": 2,
       "version_minor": 0
      },
      "text/plain": [
       "HBox(children=(IntProgress(value=1, bar_style='info', max=1), HTML(value='')))"
      ]
     },
     "metadata": {},
     "output_type": "display_data"
    },
    {
     "name": "stdout",
     "output_type": "stream",
     "text": [
      "\n",
      "Extracting ../data/MNIST/raw/train-labels-idx1-ubyte.gz to ../data/MNIST/raw\n",
      "Downloading http://yann.lecun.com/exdb/mnist/t10k-images-idx3-ubyte.gz to ../data/MNIST/raw/t10k-images-idx3-ubyte.gz\n"
     ]
    },
    {
     "data": {
      "application/vnd.jupyter.widget-view+json": {
       "model_id": "f8e5898850d84259b1fa0c3ee51aa9c2",
       "version_major": 2,
       "version_minor": 0
      },
      "text/plain": [
       "HBox(children=(IntProgress(value=1, bar_style='info', max=1), HTML(value='')))"
      ]
     },
     "metadata": {},
     "output_type": "display_data"
    },
    {
     "name": "stdout",
     "output_type": "stream",
     "text": [
      "\n",
      "Extracting ../data/MNIST/raw/t10k-images-idx3-ubyte.gz to ../data/MNIST/raw\n",
      "Downloading http://yann.lecun.com/exdb/mnist/t10k-labels-idx1-ubyte.gz to ../data/MNIST/raw/t10k-labels-idx1-ubyte.gz\n"
     ]
    },
    {
     "data": {
      "application/vnd.jupyter.widget-view+json": {
       "model_id": "f3f4ca59ee014bb08e462c76450a6cef",
       "version_major": 2,
       "version_minor": 0
      },
      "text/plain": [
       "HBox(children=(IntProgress(value=1, bar_style='info', max=1), HTML(value='')))"
      ]
     },
     "metadata": {},
     "output_type": "display_data"
    },
    {
     "name": "stdout",
     "output_type": "stream",
     "text": [
      "\n",
      "Extracting ../data/MNIST/raw/t10k-labels-idx1-ubyte.gz to ../data/MNIST/raw\n",
      "Processing...\n",
      "Done!\n"
     ]
    },
    {
     "name": "stderr",
     "output_type": "stream",
     "text": [
      "/pytorch/torch/csrc/utils/tensor_numpy.cpp:141: UserWarning: The given NumPy array is not writeable, and PyTorch does not support non-writeable tensors. This means you can write to the underlying (supposedly non-writeable) NumPy array using the tensor. You may want to copy the array to protect its data or make it writeable before converting it to a tensor. This type of warning will be suppressed for the rest of this program.\n"
     ]
    }
   ],
   "source": [
    "ds = datasets.MNIST('../data', train=True, download=True, transform=transforms.Compose([transforms.ToTensor()]))"
   ]
  },
  {
   "cell_type": "code",
   "execution_count": 7,
   "metadata": {
    "Collapsed": "false"
   },
   "outputs": [],
   "source": [
    "class SmallMNIST(Dataset):\n",
    "    def __init__(self, ds_full, n=100):\n",
    "        self.samples = []\n",
    "        self.n_classes = 10\n",
    "        self.input_dim = 784\n",
    "        for i in range(n):\n",
    "            classvec = torch.zeros(10, dtype=torch.float32, device=device)\n",
    "            classvec[ds_full[i][1]] = 1.\n",
    "            sample = (ds_full[i][0].flatten().clone().detach().float().to(device), classvec)\n",
    "            #sample = [A[r]+noise*torch.randn_like(A[r]), B[r]+noise*torch.randn_like(B[r])]\n",
    "            self.samples.append(sample)\n",
    "    \n",
    "    def __getitem__(self, idx):\n",
    "        return self.samples[idx]\n",
    "        \n",
    "    def __len__(self):\n",
    "        return len(self.samples)\n",
    "\n",
    "    def Inputs(self):\n",
    "        x = []\n",
    "        for s in self.samples:\n",
    "            x.append(s[0])\n",
    "        return torch.stack(x)\n",
    "    \n",
    "    def Targets(self):\n",
    "        t = []\n",
    "        for s in self.samples:\n",
    "            t.append(s[1])\n",
    "        return torch.stack(t)\n",
    "            \n",
    "    def InputsOfClass(self, c):\n",
    "        x = []\n",
    "        for s in self.samples:\n",
    "            if torch.argmax(s[1])==c:\n",
    "                x.append(s[0])\n",
    "        return torch.stack(x)\n",
    "\n",
    "    def Show(self, idx):\n",
    "        plt.imshow(np.reshape(self.samples[idx][0].cpu(), (28,28)));"
   ]
  },
  {
   "cell_type": "code",
   "execution_count": 16,
   "metadata": {
    "Collapsed": "false"
   },
   "outputs": [],
   "source": [
    "myds = SmallMNIST(ds, n=1000)"
   ]
  },
  {
   "cell_type": "code",
   "execution_count": 9,
   "metadata": {
    "Collapsed": "false"
   },
   "outputs": [
    {
     "data": {
      "text/plain": [
       "tensor([0., 0., 1., 0., 0., 0., 0., 0., 0., 0.], device='cuda:5')"
      ]
     },
     "execution_count": 9,
     "metadata": {},
     "output_type": "execute_result"
    }
   ],
   "source": [
    "myds[5][1]"
   ]
  },
  {
   "cell_type": "code",
   "execution_count": 10,
   "metadata": {
    "Collapsed": "false"
   },
   "outputs": [
    {
     "data": {
      "image/png": "[encoded data removed]",
      "text/plain": [
       "<Figure size 432x288 with 1 Axes>"
      ]
     },
     "metadata": {
      "needs_background": "light"
     },
     "output_type": "display_data"
    }
   ],
   "source": [
    "myds.Show(5)"
   ]
  },
  {
   "cell_type": "markdown",
   "metadata": {
    "Collapsed": "false"
   },
   "source": [
    "# Create Network"
   ]
  },
  {
   "cell_type": "code",
   "execution_count": 69,
   "metadata": {
    "Collapsed": "false"
   },
   "outputs": [],
   "source": [
    "#ds = SimpleDataset(A, B, n=50, noise=0.2)\n",
    "dl = DataLoader(myds, batch_size=100, shuffle=True)"
   ]
  },
  {
   "cell_type": "code",
   "execution_count": 74,
   "metadata": {
    "Collapsed": "false"
   },
   "outputs": [],
   "source": [
    "input_dim = 784\n",
    "mid_dim = 100\n",
    "net = PCNetwork.PCNetwork(device=device)\n",
    "net.AddLayer(PCLayer.PCLayer(n=myds.input_dim, device=device))  # [0] v0 input\n",
    "\n",
    "net.AddLayer(PCLayer.PCLayer(n=mid_dim, device=device))       # [1] e1 error\n",
    "net.AddLayer(PCLayer.PCLayer(n=mid_dim, device=device))       # [2] v1 class\n",
    "\n",
    "net.AddLayer(PCLayer.PCLayer(n=myds.n_classes, device=device))  # [3] e2 error\n",
    "net.AddLayer(PCLayer.PCLayer(n=myds.n_classes, device=device))  # [4] v2 class\n",
    "\n",
    "af0 = 'identity'\n",
    "af = 'tanh'\n",
    "sym = True\n",
    "net.Connect(v_idx=0, e_idx=1, type='general', sym=sym, act_text=af0)\n",
    "net.Connect(e_idx=1, v_idx=2, type='general', sym=True, act_text=af)\n",
    "net.Connect(v_idx=2, e_idx=3, type='general', sym=sym, act_text=af)\n",
    "net.Connect(e_idx=3, v_idx=4, type='general', sym=True, act_text=af)\n",
    "\n",
    "net.SetTau(0.05)"
   ]
  },
  {
   "cell_type": "markdown",
   "metadata": {
    "Collapsed": "false"
   },
   "source": [
    "# Training"
   ]
  },
  {
   "cell_type": "code",
   "execution_count": 47,
   "metadata": {
    "Collapsed": "false",
    "jupyter": {
     "source_hidden": true
    }
   },
   "outputs": [],
   "source": [
    "net.ClearHistory()\n",
    "net.Probe(False)\n",
    "net.Learning(True)\n",
    "net.SetGamma(0.1)\n",
    "mult = 0.1\n",
    "l = 0.\n",
    "h = 1.\n",
    "\n",
    "net.con[0].SetRandom(random=1./np.sqrt(input_dim)) # e1-v1\n",
    "net.con[1].SetIdentity()\n",
    "net.con[2].SetRandom(random=1./np.sqrt(mid_dim)) # v1-e2\n",
    "net.con[3].SetIdentity()\n",
    "\n",
    "net.SetDynamicWeightDecay(0.0, 0.8)\n",
    "net.SetRepelSmallWeights(0.0)\n",
    "net.SetActivityDecay(0.0)\n",
    "net.SetBlackout(0.)"
   ]
  },
  {
   "cell_type": "code",
   "execution_count": 75,
   "metadata": {
    "Collapsed": "false"
   },
   "outputs": [],
   "source": [
    "net.ClearHistory()\n",
    "net.Probe(False)\n",
    "net.Learning(True)\n",
    "net.SetGamma(0.1)\n",
    "mult = 0.1\n",
    "l = 0.\n",
    "h = 1./10.\n",
    "\n",
    "net.con[0].SetRandom(random=1./np.sqrt(input_dim)) # e1-v1\n",
    "#net.con[0].SetRandomUniform(low=l, high=h) # e1-v1\n",
    "net.con[1].SetRandomUniform(low=l, high=1./mid_dim) # e1-v1\n",
    "net.con[2].SetRandom(random=1./np.sqrt(mid_dim)) # v1-e2\n",
    "#net.con[2].SetRandomUniform(low=l, high=h) # v1-e2\n",
    "net.con[3].SetRandomUniform(low=l, high=h) # e2-v2\n",
    "\n",
    "net.SetDynamicWeightDecay(0.0, 0.8)\n",
    "net.SetRepelSmallWeights(0.0)\n",
    "net.SetActivityDecay(0.0)\n",
    "net.SetBlackout(0.)"
   ]
  },
  {
   "cell_type": "code",
   "execution_count": 85,
   "metadata": {},
   "outputs": [],
   "source": [
    "net.Save('mnist.net')"
   ]
  },
  {
   "cell_type": "code",
   "execution_count": 86,
   "metadata": {},
   "outputs": [],
   "source": [
    "del net"
   ]
  },
  {
   "cell_type": "code",
   "execution_count": 87,
   "metadata": {},
   "outputs": [],
   "source": [
    "net = PCNetwork.PCNetwork.Load('mnist.net')"
   ]
  },
  {
   "cell_type": "code",
   "execution_count": 82,
   "metadata": {},
   "outputs": [
    {
     "data": {
      "text/plain": [
       "device(type='cuda', index=5)"
      ]
     },
     "execution_count": 82,
     "metadata": {},
     "output_type": "execute_result"
    }
   ],
   "source": [
    "net.lyr[0].device"
   ]
  },
  {
   "cell_type": "code",
   "execution_count": 83,
   "metadata": {
    "Collapsed": "false"
   },
   "outputs": [],
   "source": [
    "net.ClearHistory()"
   ]
  },
  {
   "cell_type": "code",
   "execution_count": 84,
   "metadata": {
    "Collapsed": "false"
   },
   "outputs": [
    {
     "name": "stdout",
     "output_type": "stream",
     "text": [
      "Epoch: 0 weight decay = 0.01\n",
      "Epoch: 1 weight decay = 0.002\n"
     ]
    }
   ],
   "source": [
    "net.Learning(True)\n",
    "net.con[0].Learning(False)\n",
    "net.con[1].Learning(True)\n",
    "net.con[2].Learning(False)\n",
    "net.con[3].Learning(True)\n",
    "net.SetDynamicWeightDecay(0.01, 0.8)\n",
    "net.Learn(dl, T=3., epochs=2)"
   ]
  },
  {
   "cell_type": "code",
   "execution_count": 89,
   "metadata": {
    "Collapsed": "false"
   },
   "outputs": [
    {
     "name": "stdout",
     "output_type": "stream",
     "text": [
      "Epoch: 0 weight decay = 0.01\n",
      "Epoch: 1 weight decay = 0.002\n"
     ]
    }
   ],
   "source": [
    "net.Learning(True)\n",
    "net.con[0].Learning(True)\n",
    "net.con[1].Learning(False)\n",
    "net.con[2].Learning(True)\n",
    "net.con[3].Learning(False)\n",
    "net.SetDynamicWeightDecay(0.01, 0.8)\n",
    "net.Learn(dl, T=3., epochs=2)"
   ]
  },
  {
   "cell_type": "code",
   "execution_count": 94,
   "metadata": {},
   "outputs": [
    {
     "name": "stdout",
     "output_type": "stream",
     "text": [
      "(tensor(2.8826, device='cuda:5'), tensor(2.8826, device='cuda:5'))\n",
      "(tensor(3.8284, device='cuda:5'), tensor(3.8284, device='cuda:5'))\n",
      "(tensor(1.0860, device='cuda:5'), tensor(1.0860, device='cuda:5'))\n",
      "(tensor(0.9958, device='cuda:5'), tensor(0.9958, device='cuda:5'))\n"
     ]
    }
   ],
   "source": [
    "for c in net.con:\n",
    "    print(c.WeightNorms())"
   ]
  },
  {
   "cell_type": "code",
   "execution_count": 96,
   "metadata": {
    "Collapsed": "false"
   },
   "outputs": [
    {
     "name": "stdout",
     "output_type": "stream",
     "text": [
      "Epoch: 0 weight decay = 0.01\n",
      "Epoch: 1 weight decay = 0.002\n",
      "Epoch: 2 weight decay = 0.00039999999999999986\n",
      "Epoch: 3 weight decay = 7.999999999999997e-05\n",
      "Epoch: 4 weight decay = 1.5999999999999992e-05\n"
     ]
    }
   ],
   "source": [
    "net.Learning(True)\n",
    "net.con[0].Learning(False)\n",
    "net.con[1].Learning(True)\n",
    "net.con[2].Learning(False)\n",
    "net.con[3].Learning(True)\n",
    "net.SetDynamicWeightDecay(0.01, 0.8)\n",
    "net.Learn(dl, T=3., epochs=5)"
   ]
  },
  {
   "cell_type": "code",
   "execution_count": null,
   "metadata": {
    "Collapsed": "false"
   },
   "outputs": [
    {
     "name": "stdout",
     "output_type": "stream",
     "text": [
      "Epoch: 0 weight decay = 0.01\n"
     ]
    }
   ],
   "source": [
    "net.Learning(True)\n",
    "net.con[0].Learning(True)\n",
    "net.con[1].Learning(False)\n",
    "net.con[2].Learning(True)\n",
    "net.con[3].Learning(False)\n",
    "net.SetDynamicWeightDecay(0.01, 0.8)\n",
    "net.Learn(dl, T=3., epochs=5)"
   ]
  },
  {
   "cell_type": "code",
   "execution_count": 93,
   "metadata": {},
   "outputs": [],
   "source": [
    "net.Reset()\n",
    "net.Save('mnist.net')"
   ]
  },
  {
   "cell_type": "markdown",
   "metadata": {
    "Collapsed": "false"
   },
   "source": [
    "# Classification"
   ]
  },
  {
   "cell_type": "code",
   "execution_count": 95,
   "metadata": {
    "Collapsed": "false"
   },
   "outputs": [
    {
     "name": "stdout",
     "output_type": "stream",
     "text": [
      "tensor([[ 0.0963,  0.0369,  0.0796,  0.0521,  0.0507,  0.0604,  0.0966,  0.0453,\n",
      "          0.0429,  0.0459],\n",
      "        [ 0.1918, -0.0802,  0.0381,  0.0709,  0.0421,  0.0729,  0.0326,  0.1246,\n",
      "          0.0238,  0.0915],\n",
      "        [-0.0252,  0.0572,  0.0609,  0.0722,  0.0520,  0.0154,  0.0262,  0.0832,\n",
      "          0.0306,  0.0797],\n",
      "        [-0.0351,  0.1791,  0.1121,  0.0427,  0.0265,  0.0371,  0.0921, -0.0404,\n",
      "          0.0949,  0.0037],\n",
      "        [ 0.0834,  0.0529,  0.1127,  0.1129,  0.0997,  0.0693,  0.0922,  0.1397,\n",
      "          0.0769,  0.1326],\n",
      "        [ 0.1101,  0.0803,  0.1309,  0.1002,  0.0876,  0.0859,  0.1203,  0.1055,\n",
      "          0.0817,  0.1080],\n",
      "        [-0.0061,  0.1914,  0.1524,  0.1167,  0.0511,  0.0633,  0.0756,  0.0675,\n",
      "          0.1048,  0.0884],\n",
      "        [ 0.0943, -0.0017,  0.0766,  0.1203,  0.0732,  0.0562,  0.0422,  0.1346,\n",
      "          0.0507,  0.1208],\n",
      "        [ 0.0074,  0.1549,  0.1266,  0.0716,  0.0524,  0.0549,  0.1035,  0.0234,\n",
      "          0.0901,  0.0500],\n",
      "        [ 0.0533,  0.0129,  0.0636,  0.0828,  0.0655,  0.0391,  0.0506,  0.0981,\n",
      "          0.0414,  0.0893]], device='cuda:5')\n",
      "tensor([[0., 0., 0., 0., 0., 1., 0., 0., 0., 0.],\n",
      "        [1., 0., 0., 0., 0., 0., 0., 0., 0., 0.],\n",
      "        [0., 0., 0., 0., 1., 0., 0., 0., 0., 0.],\n",
      "        [0., 1., 0., 0., 0., 0., 0., 0., 0., 0.],\n",
      "        [0., 0., 0., 0., 0., 0., 0., 0., 0., 1.],\n",
      "        [0., 0., 1., 0., 0., 0., 0., 0., 0., 0.],\n",
      "        [0., 1., 0., 0., 0., 0., 0., 0., 0., 0.],\n",
      "        [0., 0., 0., 1., 0., 0., 0., 0., 0., 0.],\n",
      "        [0., 1., 0., 0., 0., 0., 0., 0., 0., 0.],\n",
      "        [0., 0., 0., 0., 1., 0., 0., 0., 0., 0.]], device='cuda:5')\n"
     ]
    }
   ],
   "source": [
    "net.Reset(random=1.)\n",
    "net.Probe(True)\n",
    "net.SetActivityDecay( 0.0 )\n",
    "y = net.Predict(myds.Inputs()[:10], T=1.)\n",
    "print(y[:10])\n",
    "print(myds.Targets()[:10])"
   ]
  },
  {
   "cell_type": "code",
   "execution_count": 28,
   "metadata": {
    "Collapsed": "false"
   },
   "outputs": [
    {
     "data": {
      "image/png": "[encoded data removed]",
      "text/plain": [
       "<Figure size 720x288 with 7 Axes>"
      ]
     },
     "metadata": {
      "needs_background": "light"
     },
     "output_type": "display_data"
    }
   ],
   "source": [
    "net.Plot(idx=[1,2,3,4,5]);"
   ]
  },
  {
   "cell_type": "code",
   "execution_count": 772,
   "metadata": {
    "Collapsed": "false"
   },
   "outputs": [
    {
     "data": {
      "image/png": "[encoded data removed]",
      "text/plain": [
       "<Figure size 432x288 with 1 Axes>"
      ]
     },
     "metadata": {
      "needs_background": "light"
     },
     "output_type": "display_data"
    }
   ],
   "source": [
    "ds.Plot(labels=y, idx=(4,8))"
   ]
  },
  {
   "cell_type": "markdown",
   "metadata": {
    "Collapsed": "false"
   },
   "source": [
    "# Generation"
   ]
  },
  {
   "cell_type": "code",
   "execution_count": 559,
   "metadata": {
    "Collapsed": "false"
   },
   "outputs": [],
   "source": [
    "net.Reset(random=1.)\n",
    "net.SetActivityDecay(0.02)\n",
    "X = net.Generate(ds.Targets(), T=15.)"
   ]
  },
  {
   "cell_type": "code",
   "execution_count": 560,
   "metadata": {
    "Collapsed": "false"
   },
   "outputs": [
    {
     "data": {
      "image/png": "[encoded data removed]",
      "text/plain": [
       "<Figure size 432x288 with 1 Axes>"
      ]
     },
     "metadata": {
      "needs_background": "light"
     },
     "output_type": "display_data"
    }
   ],
   "source": [
    "sidx = (0,1)\n",
    "ds.Plot(idx=sidx)\n",
    "plt.plot(X[:,sidx[0]], X[:,sidx[1]], 's', color=[0,0,0,0.1]);"
   ]
  },
  {
   "cell_type": "code",
   "execution_count": 561,
   "metadata": {
    "Collapsed": "false"
   },
   "outputs": [
    {
     "data": {
      "image/png": "[encoded data removed]",
      "text/plain": [
       "<Figure size 432x288 with 1 Axes>"
      ]
     },
     "metadata": {
      "needs_background": "light"
     },
     "output_type": "display_data"
    }
   ],
   "source": [
    "sidx = (4,8)\n",
    "ds.Plot(idx=sidx)\n",
    "plt.plot(X[:,sidx[0]], X[:,sidx[1]], 's', color=[0,0,0,0.1]);"
   ]
  },
  {
   "cell_type": "code",
   "execution_count": null,
   "metadata": {
    "Collapsed": "false"
   },
   "outputs": [],
   "source": []
  }
 ],
 "metadata": {
  "kernelspec": {
   "display_name": "Python 3",
   "language": "python",
   "name": "python3"
  },
  "language_info": {
   "codemirror_mode": {
    "name": "ipython",
    "version": 3
   },
   "file_extension": ".py",
   "mimetype": "text/x-python",
   "name": "python",
   "nbconvert_exporter": "python",
   "pygments_lexer": "ipython3",
   "version": "3.7.7"
  }
 },
 "nbformat": 4,
 "nbformat_minor": 4
}
