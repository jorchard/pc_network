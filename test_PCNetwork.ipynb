{
 "cells": [
  {
   "cell_type": "markdown",
   "metadata": {},
   "source": [
    "# Test PCNetwork\n",
    "Purpose: To do initial testing of the `PCNetwork` class."
   ]
  },
  {
   "cell_type": "code",
   "execution_count": 1031,
   "metadata": {},
   "outputs": [
    {
     "name": "stdout",
     "output_type": "stream",
     "text": [
      "The autoreload extension is already loaded. To reload it, use:\n",
      "  %reload_ext autoreload\n"
     ]
    }
   ],
   "source": [
    "import numpy as np\n",
    "import matplotlib.pyplot as plt\n",
    "import torch\n",
    "from torch.utils.data import Dataset, DataLoader\n",
    "%load_ext autoreload\n",
    "%autoreload 1\n",
    "%aimport PCNetwork\n",
    "%aimport PCLayer\n",
    "%aimport PCConnection"
   ]
  },
  {
   "cell_type": "code",
   "execution_count": 887,
   "metadata": {},
   "outputs": [],
   "source": [
    "dtype = torch.float32\n",
    "if torch.cuda.is_available():\n",
    "    device = torch.device(\"cuda:0\") # Uncomment this to run on GPU\n",
    "else:\n",
    "    device = torch.device(\"cpu\")"
   ]
  },
  {
   "cell_type": "markdown",
   "metadata": {},
   "source": [
    "# Dataset"
   ]
  },
  {
   "cell_type": "code",
   "execution_count": 1182,
   "metadata": {},
   "outputs": [
    {
     "name": "stdout",
     "output_type": "stream",
     "text": [
      "Input vectors\n",
      "tensor([[ 1.3874, -0.2003,  0.4514],\n",
      "        [-0.0967, -0.4015,  1.3332]])\n",
      "Target vectors\n",
      "tensor([[1., 0.],\n",
      "        [0., 1.]])\n"
     ]
    }
   ],
   "source": [
    "# Make my own dataset\n",
    "A = torch.tensor([[ 1.3874, -0.2003,  0.4514],\n",
    "                  [-0.0967, -0.4015,  1.3332]], dtype=torch.float32, device=device)\n",
    "n_classes, top_dim = np.shape(A)\n",
    "B = torch.eye(n_classes, device=device)\n",
    "\n",
    "print('Input vectors')\n",
    "print(A)\n",
    "print('Target vectors')\n",
    "print(B)"
   ]
  },
  {
   "cell_type": "code",
   "execution_count": 1059,
   "metadata": {},
   "outputs": [
    {
     "name": "stdout",
     "output_type": "stream",
     "text": [
      "Input vectors\n",
      "tensor([[1., 0.],\n",
      "        [0., 1.]])\n",
      "Target vectors\n",
      "tensor([[1., 0.],\n",
      "        [0., 1.]])\n"
     ]
    }
   ],
   "source": [
    "# Make my own dataset\n",
    "A = torch.tensor([[1, 0],[0,1]], dtype=torch.float32, device=device)\n",
    "n_classes, top_dim = np.shape(A)\n",
    "B = torch.eye(n_classes, device=device)\n",
    "\n",
    "print('Input vectors')\n",
    "print(A)\n",
    "print('Target vectors')\n",
    "print(B)"
   ]
  },
  {
   "cell_type": "code",
   "execution_count": 1100,
   "metadata": {},
   "outputs": [],
   "source": [
    "# Use A and B to make a dataset\n",
    "def MakeDataset(A, B, n=300, noise=0.2):\n",
    "    n_classes, top_dim = np.shape(B)\n",
    "    bottom_dim = n_classes\n",
    "\n",
    "    training_input = []\n",
    "    training_output = []\n",
    "    for idx in range(n):\n",
    "        r = np.random.randint(n_classes)\n",
    "        training_output.append(B[r])\n",
    "        training_input.append(A[r]+noise*torch.randn_like(A[r]))\n",
    "\n",
    "    training_input = torch.stack(training_input)\n",
    "    training_output = torch.stack(training_output)\n",
    "    train = [training_input, training_output]\n",
    "    return train\n",
    "\n",
    "train = MakeDataset(A, B, n=10, noise=0.)"
   ]
  },
  {
   "cell_type": "code",
   "execution_count": 1183,
   "metadata": {},
   "outputs": [],
   "source": [
    "class SimpleDataset(Dataset):\n",
    "    def __init__(self, A, B, n=300, noise=0.1):\n",
    "        self.samples = []\n",
    "        n_classes = len(A)\n",
    "        for i in range(n):\n",
    "            r = np.random.randint(n_classes)\n",
    "            sample = [A[r]+noise*torch.randn_like(A[r]), B[r]]\n",
    "            self.samples.append(sample)\n",
    "        \n",
    "    def __getitem__(self, idx):\n",
    "        return self.samples[idx]\n",
    "        \n",
    "    def __len__(self):\n",
    "        return len(self.samples)"
   ]
  },
  {
   "cell_type": "code",
   "execution_count": 1080,
   "metadata": {},
   "outputs": [],
   "source": [
    "blah = SimpleDataset(A, B, n=10, noise=0.0)"
   ]
  },
  {
   "cell_type": "markdown",
   "metadata": {},
   "source": [
    "# Create Network"
   ]
  },
  {
   "cell_type": "code",
   "execution_count": 1284,
   "metadata": {},
   "outputs": [],
   "source": [
    "net = PCNetwork.PCNetwork()\n",
    "\n",
    "net.AddLayer(PCLayer.PCLayer(n=np.shape(A)[1]))  # v0 (input layer)\n",
    "net.AddLayer(PCLayer.PCLayer(n=2))  # / e1\n",
    "net.AddLayer(PCLayer.PCLayer(n=2))  # \\ v1 (output layer)\n",
    "\n",
    "net.Connect(v_idx=0, e_idx=1, type='general', sym=True, act_text='identity')\n",
    "net.Connect(e_idx=1, v_idx=2, type='1to1')\n",
    "\n",
    "net.SetTau(0.05)\n",
    "net.SetWeightDecay(0.04)\n",
    "net.SetActivityDecay(0.01)"
   ]
  },
  {
   "cell_type": "code",
   "execution_count": 1270,
   "metadata": {},
   "outputs": [],
   "source": [
    "#net.con[0].SetIdentity()\n",
    "#net.con[1].SetIdentity()"
   ]
  },
  {
   "cell_type": "code",
   "execution_count": 1271,
   "metadata": {},
   "outputs": [],
   "source": [
    "#net.Save('my.net')\n",
    "#net2 = PCNetwork.PCNetwork.Load('my.net')"
   ]
  },
  {
   "cell_type": "markdown",
   "metadata": {},
   "source": [
    "# Test"
   ]
  },
  {
   "cell_type": "code",
   "execution_count": 1285,
   "metadata": {},
   "outputs": [],
   "source": [
    "net.lyr[0].Probe(True)\n",
    "net.lyr[1].Probe(True)\n",
    "net.lyr[2].Probe(True)"
   ]
  },
  {
   "cell_type": "code",
   "execution_count": 1286,
   "metadata": {},
   "outputs": [
    {
     "data": {
      "text/plain": [
       "tensor([[-2.1312,  2.3897],\n",
       "        [ 1.5822, -0.8840]])"
      ]
     },
     "execution_count": 1286,
     "metadata": {},
     "output_type": "execute_result"
    }
   ],
   "source": [
    "net.Predict(A, T=4.)"
   ]
  },
  {
   "cell_type": "code",
   "execution_count": 1287,
   "metadata": {},
   "outputs": [
    {
     "data": {
      "image/png": "[encoded data removed]",
      "text/plain": [
       "<Figure size 720x288 with 5 Axes>"
      ]
     },
     "metadata": {
      "needs_background": "light"
     },
     "output_type": "display_data"
    }
   ],
   "source": [
    "net.Plot(idx=[0]);"
   ]
  },
  {
   "cell_type": "code",
   "execution_count": 1288,
   "metadata": {},
   "outputs": [],
   "source": [
    "simple_ds = SimpleDataset(A, B, n=4, noise=0.0)"
   ]
  },
  {
   "cell_type": "code",
   "execution_count": 1289,
   "metadata": {},
   "outputs": [
    {
     "name": "stdout",
     "output_type": "stream",
     "text": [
      "Epoch: 0\n",
      "Epoch: 1\n",
      "Epoch: 2\n",
      "Epoch: 3\n",
      "Epoch: 4\n"
     ]
    }
   ],
   "source": [
    "net.Reset()\n",
    "net.Learn(DataLoader(simple_ds, batch_size=2, shuffle=True), T=1., epochs=5)"
   ]
  },
  {
   "cell_type": "code",
   "execution_count": 1290,
   "metadata": {},
   "outputs": [
    {
     "data": {
      "text/plain": [
       "tensor([[0.9708, 0.0053],\n",
       "        [0.0053, 0.9687]])"
      ]
     },
     "execution_count": 1290,
     "metadata": {},
     "output_type": "execute_result"
    }
   ],
   "source": [
    "net.Reset()\n",
    "net.Predict(A, T=4.)"
   ]
  },
  {
   "cell_type": "code",
   "execution_count": 1291,
   "metadata": {},
   "outputs": [
    {
     "data": {
      "image/png": "[encoded data removed]",
      "text/plain": [
       "<Figure size 720x288 with 5 Axes>"
      ]
     },
     "metadata": {
      "needs_background": "light"
     },
     "output_type": "display_data"
    }
   ],
   "source": [
    "fig = net.Plot(idx=0)"
   ]
  },
  {
   "cell_type": "code",
   "execution_count": 1292,
   "metadata": {},
   "outputs": [
    {
     "data": {
      "text/plain": [
       "tensor([[ 1.3860, -0.1689,  0.4428],\n",
       "        [-0.1098, -0.3468,  1.3447]])"
      ]
     },
     "execution_count": 1292,
     "metadata": {},
     "output_type": "execute_result"
    }
   ],
   "source": [
    "net.Reset()\n",
    "net.Generate(B, T=4.)"
   ]
  },
  {
   "cell_type": "code",
   "execution_count": 1293,
   "metadata": {},
   "outputs": [
    {
     "data": {
      "image/png": "[encoded data removed]",
      "text/plain": [
       "<Figure size 720x288 with 5 Axes>"
      ]
     },
     "metadata": {
      "needs_background": "light"
     },
     "output_type": "display_data"
    }
   ],
   "source": [
    "net.Plot(idx=1);"
   ]
  },
  {
   "cell_type": "code",
   "execution_count": 1294,
   "metadata": {},
   "outputs": [
    {
     "name": "stdout",
     "output_type": "stream",
     "text": [
      "tensor([[ 1.3860, -0.1689,  0.4428],\n",
      "        [-0.1098, -0.3468,  1.3447]])\n",
      "tensor([[ 1.3874, -0.2003,  0.4514],\n",
      "        [-0.0967, -0.4015,  1.3332]])\n"
     ]
    },
    {
     "data": {
      "image/png": "[encoded data removed]",
      "text/plain": [
       "<Figure size 432x288 with 1 Axes>"
      ]
     },
     "metadata": {
      "needs_background": "light"
     },
     "output_type": "display_data"
    }
   ],
   "source": [
    "print(net.lyr[0].x)\n",
    "print(A)\n",
    "idx = 1\n",
    "colours = ['royalblue', 'orange', 'green'];\n",
    "net.lyr[0].Plot(net.t_history, idx=idx)\n",
    "for k,a in enumerate(A[idx]):\n",
    "    plt.plot([net.t_history[0],net.t_history[-1]], [a,a], ':', color=colours[k]);"
   ]
  },
  {
   "cell_type": "code",
   "execution_count": null,
   "metadata": {},
   "outputs": [],
   "source": []
  }
 ],
 "metadata": {
  "kernelspec": {
   "display_name": "Python 3",
   "language": "python",
   "name": "python3"
  },
  "language_info": {
   "codemirror_mode": {
    "name": "ipython",
    "version": 3
   },
   "file_extension": ".py",
   "mimetype": "text/x-python",
   "name": "python",
   "nbconvert_exporter": "python",
   "pygments_lexer": "ipython3",
   "version": "3.7.4"
  }
 },
 "nbformat": 4,
 "nbformat_minor": 4
}
