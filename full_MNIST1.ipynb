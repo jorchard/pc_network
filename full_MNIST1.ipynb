{
 "cells": [
  {
   "cell_type": "markdown",
   "metadata": {
    "Collapsed": "false"
   },
   "source": [
    "# Full-Learning MNIST PC Network\n",
    "Purpose: To see if we can learn not only (v)<->(e) connections, but also the (e)<->(v) connections. Those connections have previously been set to 1:1 identity mappings. But here they start as random connection weights, and learn using the same update rule as the other learning connections."
   ]
  },
  {
   "cell_type": "code",
   "execution_count": 1,
   "metadata": {
    "Collapsed": "false"
   },
   "outputs": [],
   "source": [
    "import numpy as np\n",
    "import matplotlib.pyplot as plt\n",
    "from copy import deepcopy\n",
    "import torch\n",
    "from torch.utils.data import Dataset, DataLoader\n",
    "from torchvision import  datasets, transforms\n",
    "from IPython.display import display\n",
    "from ipywidgets import FloatProgress\n",
    "\n",
    "%load_ext autoreload\n",
    "%autoreload 1\n",
    "%aimport PCNetwork\n",
    "%aimport PCLayer\n",
    "%aimport PCConnection\n",
    "\n",
    "np.set_printoptions(precision=4)\n",
    "\n",
    "dtype = torch.float32\n",
    "if torch.cuda.is_available():\n",
    "    device = torch.device(\"cuda:4\") # Uncomment this to run on GPU\n",
    "else:\n",
    "    device = torch.device(\"cpu\")"
   ]
  },
  {
   "cell_type": "markdown",
   "metadata": {
    "Collapsed": "false"
   },
   "source": [
    "# Dataset"
   ]
  },
  {
   "cell_type": "code",
   "execution_count": 2,
   "metadata": {
    "Collapsed": "false"
   },
   "outputs": [],
   "source": [
    "ds = datasets.MNIST('../data', train=True, download=True, transform=transforms.Compose([transforms.ToTensor()]))"
   ]
  },
  {
   "cell_type": "code",
   "execution_count": 69,
   "metadata": {
    "Collapsed": "false"
   },
   "outputs": [],
   "source": [
    "class SmallMNIST(Dataset):\n",
    "    def __init__(self, ds_full, n=100, type='identity'):\n",
    "        self.samples = []\n",
    "        self.n_classes = 10\n",
    "        self.input_dim = 784\n",
    "        for i in range(n):\n",
    "            x = ds_full[i][0].flatten()\n",
    "            if type=='inv_logistic':\n",
    "                x = x*0.94 + 0.03\n",
    "                x = torch.log( x / (1.0-x) )\n",
    "                x[x>5.] = 5.\n",
    "                x[x<-5] = -5.\n",
    "            classvec = torch.zeros(10, dtype=torch.float32, device=device)\n",
    "            classvec[ds_full[i][1]] = 1.\n",
    "            sample = (x.clone().detach().float().to(device), classvec)\n",
    "            #sample = [A[r]+noise*torch.randn_like(A[r]), B[r]+noise*torch.randn_like(B[r])]\n",
    "            self.samples.append(sample)\n",
    "    \n",
    "    def __getitem__(self, idx):\n",
    "        return self.samples[idx]\n",
    "        \n",
    "    def __len__(self):\n",
    "        return len(self.samples)\n",
    "\n",
    "    def Inputs(self):\n",
    "        x = []\n",
    "        for s in self.samples:\n",
    "            x.append(s[0])\n",
    "        return torch.stack(x)\n",
    "    \n",
    "    def Targets(self):\n",
    "        t = []\n",
    "        for s in self.samples:\n",
    "            t.append(s[1])\n",
    "        return torch.stack(t)\n",
    "            \n",
    "    def InputsOfClass(self, c):\n",
    "        x = []\n",
    "        for s in self.samples:\n",
    "            if torch.argmax(s[1])==c:\n",
    "                x.append(s[0])\n",
    "        return torch.stack(x)\n",
    "\n",
    "    def Show(self, idx):\n",
    "        plt.imshow(np.reshape(self.samples[idx][0].cpu(), (28,28)));"
   ]
  },
  {
   "cell_type": "code",
   "execution_count": 31,
   "metadata": {
    "Collapsed": "false"
   },
   "outputs": [],
   "source": [
    "myds = SmallMNIST(ds, n=10000)"
   ]
  },
  {
   "cell_type": "code",
   "execution_count": 70,
   "metadata": {},
   "outputs": [],
   "source": [
    "myds2 = SmallMNIST(ds, n=100, type='inv_logistic')"
   ]
  },
  {
   "cell_type": "code",
   "execution_count": 57,
   "metadata": {
    "Collapsed": "false"
   },
   "outputs": [
    {
     "data": {
      "text/plain": [
       "tensor([0., 0., 1., 0., 0., 0., 0., 0., 0., 0.], device='cuda:4')"
      ]
     },
     "execution_count": 57,
     "metadata": {},
     "output_type": "execute_result"
    }
   ],
   "source": [
    "myds[5][1]"
   ]
  },
  {
   "cell_type": "code",
   "execution_count": 33,
   "metadata": {
    "Collapsed": "false"
   },
   "outputs": [
    {
     "data": {
      "image/png": "[encoded data removed]",
      "text/plain": [
       "<Figure size 432x288 with 1 Axes>"
      ]
     },
     "metadata": {
      "needs_background": "light"
     },
     "output_type": "display_data"
    }
   ],
   "source": [
    "myds.Show(5)"
   ]
  },
  {
   "cell_type": "markdown",
   "metadata": {
    "Collapsed": "false"
   },
   "source": [
    "# Create Network"
   ]
  },
  {
   "cell_type": "code",
   "execution_count": 34,
   "metadata": {
    "Collapsed": "false"
   },
   "outputs": [],
   "source": [
    "#ds = SimpleDataset(A, B, n=50, noise=0.2)\n",
    "dl = DataLoader(myds, batch_size=250, shuffle=True)"
   ]
  },
  {
   "cell_type": "code",
   "execution_count": 41,
   "metadata": {
    "Collapsed": "false"
   },
   "outputs": [],
   "source": [
    "input_dim = 784\n",
    "mid_dim = 100\n",
    "net = PCNetwork.PCNetwork(device=device)\n",
    "net.AddLayer(PCLayer.PCLayer(n=myds.input_dim, device=device))  # [0] v0 input\n",
    "\n",
    "net.AddLayer(PCLayer.PCLayer(n=mid_dim, device=device))       # [1] e1 error\n",
    "net.AddLayer(PCLayer.PCLayer(n=mid_dim, device=device))       # [2] v1 class\n",
    "\n",
    "net.AddLayer(PCLayer.PCLayer(n=myds.n_classes, device=device))  # [3] e2 error\n",
    "net.AddLayer(PCLayer.PCLayer(n=myds.n_classes, device=device))  # [4] v2 class\n",
    "\n",
    "af0 = 'identity'\n",
    "af = 'tanh'\n",
    "sym = True\n",
    "net.Connect(v_idx=0, e_idx=1, type='general', sym=sym, act_text=af0)\n",
    "net.Connect(e_idx=1, v_idx=2, type='general', sym=True, act_text=af)\n",
    "net.Connect(v_idx=2, e_idx=3, type='general', sym=sym, act_text=af)\n",
    "net.Connect(e_idx=3, v_idx=4, type='general', sym=True, act_text=af)\n",
    "\n",
    "net.SetTau(0.02)"
   ]
  },
  {
   "cell_type": "markdown",
   "metadata": {
    "Collapsed": "false"
   },
   "source": [
    "# Training"
   ]
  },
  {
   "cell_type": "code",
   "execution_count": null,
   "metadata": {
    "Collapsed": "false",
    "jupyter": {
     "source_hidden": true
    }
   },
   "outputs": [],
   "source": [
    "net.ClearHistory()\n",
    "net.Probe(False)\n",
    "net.Learning(True)\n",
    "net.SetGamma(0.1)\n",
    "mult = 0.1\n",
    "l = 0.\n",
    "h = 1.\n",
    "\n",
    "net.con[0].SetRandom(random=1./np.sqrt(input_dim)) # e1-v1\n",
    "net.con[1].SetIdentity()\n",
    "net.con[2].SetRandom(random=1./np.sqrt(mid_dim)) # v1-e2\n",
    "net.con[3].SetIdentity()\n",
    "\n",
    "net.SetDynamicWeightDecay(0.0, 0.8)\n",
    "net.SetRepelSmallWeights(0.0)\n",
    "net.SetActivityDecay(0.0)\n",
    "net.SetBlackout(0.)"
   ]
  },
  {
   "cell_type": "code",
   "execution_count": 59,
   "metadata": {
    "Collapsed": "false"
   },
   "outputs": [],
   "source": [
    "net.ClearHistory()\n",
    "net.Probe(False)\n",
    "net.Learning(True)\n",
    "net.SetGamma(0.05)\n",
    "l = 0.\n",
    "h = 1./10.\n",
    "\n",
    "net.con[0].SetRandom(random=1.*2/np.sqrt(input_dim)) # e1-v1\n",
    "#net.con[0].SetRandomUniform(low=l, high=h) # e1-v1\n",
    "net.con[1].SetRandomUniform(low=l, high=1./mid_dim) # e1-v1\n",
    "net.con[2].SetRandom(random=1./np.sqrt(mid_dim)) # v1-e2\n",
    "#net.con[2].SetRandomUniform(low=l, high=h) # v1-e2\n",
    "net.con[3].SetRandomUniform(low=l, high=h) # e2-v2\n",
    "\n",
    "net.SetDynamicWeightDecay(0.0, 0.8)\n",
    "net.SetRepelSmallWeights(0.0)\n",
    "net.SetActivityDecay(0.0)\n",
    "net.SetBlackout(0.)"
   ]
  },
  {
   "cell_type": "code",
   "execution_count": null,
   "metadata": {},
   "outputs": [],
   "source": [
    "net.Save('mnist4.net')"
   ]
  },
  {
   "cell_type": "code",
   "execution_count": 61,
   "metadata": {},
   "outputs": [],
   "source": [
    "net = PCNetwork.PCNetwork.Load('mnist4.net')\n",
    "#net = PCNetwork.PCNetwork.Load('mnist4_57percent.net')"
   ]
  },
  {
   "cell_type": "code",
   "execution_count": 37,
   "metadata": {
    "Collapsed": "false"
   },
   "outputs": [],
   "source": [
    "net.ClearHistory()"
   ]
  },
  {
   "cell_type": "code",
   "execution_count": 60,
   "metadata": {},
   "outputs": [
    {
     "name": "stdout",
     "output_type": "stream",
     "text": [
      "(tensor(20.0000, device='cuda:4'), tensor(20.0000, device='cuda:4'))\n",
      "(tensor(0.5713, device='cuda:4'), tensor(0.5713, device='cuda:4'))\n",
      "(tensor(3.0971, device='cuda:4'), tensor(3.0971, device='cuda:4'))\n",
      "(tensor(0.5966, device='cuda:4'), tensor(0.5966, device='cuda:4'))\n"
     ]
    }
   ],
   "source": [
    "for c in net.con:\n",
    "    print(c.WeightNorms())"
   ]
  },
  {
   "cell_type": "code",
   "execution_count": 43,
   "metadata": {
    "Collapsed": "false"
   },
   "outputs": [
    {
     "name": "stdout",
     "output_type": "stream",
     "text": [
      "Epoch: 0 weight decay = 0.0\n"
     ]
    }
   ],
   "source": [
    "# Shorter run time, one epoch, 10000 samples\n",
    "net.Learning(True)\n",
    "net.con[0].Learning(False)\n",
    "net.con[1].Learning(True)\n",
    "net.con[2].Learning(False)\n",
    "net.con[3].Learning(True)\n",
    "net.SetDynamicWeightDecay(0.0, 0.8)\n",
    "net.Learn(dl, T=1., epochs=1)\n",
    "net.Save('mnist4.net')"
   ]
  },
  {
   "cell_type": "code",
   "execution_count": null,
   "metadata": {
    "Collapsed": "false"
   },
   "outputs": [
    {
     "name": "stdout",
     "output_type": "stream",
     "text": [
      "Epoch: 0 weight decay = 0.0\n"
     ]
    }
   ],
   "source": [
    "net.Learning(True)\n",
    "net.con[0].Learning(True)\n",
    "net.con[1].Learning(False)\n",
    "net.con[2].Learning(True)\n",
    "net.con[3].Learning(False)\n",
    "net.SetDynamicWeightDecay(0.0, 0.8)\n",
    "net.Learn(dl, T=1., epochs=1)\n",
    "net.Save('mnist4.net')"
   ]
  },
  {
   "cell_type": "code",
   "execution_count": 68,
   "metadata": {},
   "outputs": [
    {
     "name": "stdout",
     "output_type": "stream",
     "text": [
      "(tensor(13.0891, device='cuda:4'), tensor(13.0891, device='cuda:4'))\n",
      "(tensor(20.7215, device='cuda:4'), tensor(20.7215, device='cuda:4'))\n",
      "(tensor(0.6788, device='cuda:4'), tensor(0.6788, device='cuda:4'))\n",
      "(tensor(0.9784, device='cuda:4'), tensor(0.9784, device='cuda:4'))\n"
     ]
    }
   ],
   "source": [
    "for c in net.con:\n",
    "    print(c.WeightNorms())"
   ]
  },
  {
   "cell_type": "code",
   "execution_count": 64,
   "metadata": {
    "Collapsed": "false"
   },
   "outputs": [
    {
     "name": "stdout",
     "output_type": "stream",
     "text": [
      "Epoch: 0 weight decay = 0.0\n",
      "Epoch: 1 weight decay = 0.0\n"
     ]
    }
   ],
   "source": [
    "# T=3, 10000 samples\n",
    "net.Learning(True)\n",
    "net.con[0].Learning(False)\n",
    "net.con[1].Learning(True)\n",
    "net.con[2].Learning(False)\n",
    "net.con[3].Learning(True)\n",
    "net.SetDynamicWeightDecay(0.0, 0.8)\n",
    "net.Learn(dl, T=1., epochs=2)\n",
    "net.Save('mnist4.net')"
   ]
  },
  {
   "cell_type": "code",
   "execution_count": 65,
   "metadata": {
    "Collapsed": "false"
   },
   "outputs": [
    {
     "name": "stdout",
     "output_type": "stream",
     "text": [
      "Epoch: 0 weight decay = 0.0\n",
      "Epoch: 1 weight decay = 0.0\n"
     ]
    }
   ],
   "source": [
    "net.Learning(True)\n",
    "net.con[0].Learning(True)\n",
    "net.con[1].Learning(False)\n",
    "net.con[2].Learning(True)\n",
    "net.con[3].Learning(False)\n",
    "net.SetDynamicWeightDecay(0.0, 0.8)\n",
    "net.Learn(dl, T=1., epochs=2)\n",
    "net.Save('mnist4.net')"
   ]
  },
  {
   "cell_type": "code",
   "execution_count": 62,
   "metadata": {},
   "outputs": [
    {
     "name": "stdout",
     "output_type": "stream",
     "text": [
      "Epoch: 0 weight decay = 0.0\n"
     ]
    }
   ],
   "source": [
    "tinyds = SmallMNIST(ds, n=10)\n",
    "tinydl = DataLoader(tinyds, batch_size=10, shuffle=False)\n",
    "net.Reset()\n",
    "net.Probe(True)\n",
    "net.Learning(True)\n",
    "net.Learn(tinydl, T=5., epochs=1)\n",
    "net.Plot(idx=[0]);"
   ]
  },
  {
   "cell_type": "code",
   "execution_count": 58,
   "metadata": {},
   "outputs": [],
   "source": [
    "net.Reset()\n",
    "#net.Save('mnist4_57percent.net')"
   ]
  },
  {
   "cell_type": "markdown",
   "metadata": {
    "Collapsed": "false"
   },
   "source": [
    "# Classification"
   ]
  },
  {
   "cell_type": "code",
   "execution_count": 66,
   "metadata": {
    "Collapsed": "false"
   },
   "outputs": [
    {
     "name": "stdout",
     "output_type": "stream",
     "text": [
      "tensor([[ 0.1194,  0.1170,  0.0750,  0.0903,  0.0296,  0.0989,  0.0536,  0.0786,\n",
      "          0.0848,  0.0471],\n",
      "        [ 0.1935,  0.0568,  0.0799,  0.1017, -0.0059,  0.0979, -0.0101,  0.0818,\n",
      "          0.0674,  0.0307],\n",
      "        [ 0.1422,  0.1106,  0.0723,  0.0953,  0.0150,  0.1051,  0.0131,  0.1009,\n",
      "          0.0653,  0.0492],\n",
      "        [ 0.0181,  0.1724,  0.0494,  0.0699,  0.1054,  0.1005,  0.0633,  0.1251,\n",
      "          0.0670,  0.1021],\n",
      "        [ 0.0048,  0.0778,  0.0405,  0.0234,  0.1407,  0.0583,  0.1324,  0.0959,\n",
      "          0.0191,  0.1020],\n",
      "        [-0.0247,  0.0844,  0.0357,  0.0140,  0.1663,  0.0545,  0.1414,  0.0996,\n",
      "          0.0182,  0.1151],\n",
      "        [-0.0226,  0.1640,  0.0473,  0.0492,  0.1338,  0.0849,  0.1298,  0.1032,\n",
      "          0.0679,  0.1064],\n",
      "        [ 0.2648,  0.0620,  0.1034,  0.1394, -0.0758,  0.1168, -0.0413,  0.0612,\n",
      "          0.1061, -0.0086],\n",
      "        [ 0.0137,  0.1715,  0.0454,  0.0674,  0.1069,  0.0990,  0.0484,  0.1290,\n",
      "          0.0619,  0.1041],\n",
      "        [ 0.0021,  0.1472,  0.0481,  0.0488,  0.1438,  0.0863,  0.1132,  0.1175,\n",
      "          0.0533,  0.1148]], device='cuda:4')\n",
      "tensor([[0., 0., 0., 0., 0., 1., 0., 0., 0., 0.],\n",
      "        [1., 0., 0., 0., 0., 0., 0., 0., 0., 0.],\n",
      "        [0., 0., 0., 0., 1., 0., 0., 0., 0., 0.],\n",
      "        [0., 1., 0., 0., 0., 0., 0., 0., 0., 0.],\n",
      "        [0., 0., 0., 0., 0., 0., 0., 0., 0., 1.],\n",
      "        [0., 0., 1., 0., 0., 0., 0., 0., 0., 0.],\n",
      "        [0., 1., 0., 0., 0., 0., 0., 0., 0., 0.],\n",
      "        [0., 0., 0., 1., 0., 0., 0., 0., 0., 0.],\n",
      "        [0., 1., 0., 0., 0., 0., 0., 0., 0., 0.],\n",
      "        [0., 0., 0., 0., 1., 0., 0., 0., 0., 0.]], device='cuda:4')\n"
     ]
    }
   ],
   "source": [
    "net.Reset()\n",
    "net.Probe(False)\n",
    "net.SetActivityDecay( 0.0 )\n",
    "y = net.Predict(myds.Inputs()[:100], T=4.)\n",
    "print(y[:10])\n",
    "print(myds.Targets()[:10])"
   ]
  },
  {
   "cell_type": "code",
   "execution_count": 67,
   "metadata": {
    "Collapsed": "false"
   },
   "outputs": [
    {
     "name": "stdout",
     "output_type": "stream",
     "text": [
      "35 correct out of 100\n"
     ]
    }
   ],
   "source": [
    "# Check the accuracy\n",
    "correct = 0\n",
    "for ym,tm in zip(torch.argmax(y, axis=1), torch.argmax(myds.Targets()[:100], axis=1)):\n",
    "    if ym.item()==tm.item():\n",
    "        correct += 1\n",
    "print(str(correct)+' correct out of 100')"
   ]
  },
  {
   "cell_type": "code",
   "execution_count": null,
   "metadata": {
    "Collapsed": "false"
   },
   "outputs": [],
   "source": [
    "ds.Plot(labels=y, idx=(4,8))"
   ]
  },
  {
   "cell_type": "markdown",
   "metadata": {
    "Collapsed": "false"
   },
   "source": [
    "# Generation"
   ]
  },
  {
   "cell_type": "code",
   "execution_count": null,
   "metadata": {
    "Collapsed": "false"
   },
   "outputs": [],
   "source": [
    "net.Reset(random=1.)\n",
    "net.SetActivityDecay(0.02)\n",
    "X = net.Generate(ds.Targets(), T=15.)"
   ]
  },
  {
   "cell_type": "code",
   "execution_count": null,
   "metadata": {
    "Collapsed": "false"
   },
   "outputs": [],
   "source": [
    "sidx = (0,1)\n",
    "ds.Plot(idx=sidx)\n",
    "plt.plot(X[:,sidx[0]], X[:,sidx[1]], 's', color=[0,0,0,0.1]);"
   ]
  },
  {
   "cell_type": "code",
   "execution_count": null,
   "metadata": {
    "Collapsed": "false"
   },
   "outputs": [],
   "source": [
    "sidx = (4,8)\n",
    "ds.Plot(idx=sidx)\n",
    "plt.plot(X[:,sidx[0]], X[:,sidx[1]], 's', color=[0,0,0,0.1]);"
   ]
  },
  {
   "cell_type": "code",
   "execution_count": null,
   "metadata": {
    "Collapsed": "false"
   },
   "outputs": [],
   "source": []
  }
 ],
 "metadata": {
  "kernelspec": {
   "display_name": "Python 3",
   "language": "python",
   "name": "python3"
  },
  "language_info": {
   "codemirror_mode": {
    "name": "ipython",
    "version": 3
   },
   "file_extension": ".py",
   "mimetype": "text/x-python",
   "name": "python",
   "nbconvert_exporter": "python",
   "pygments_lexer": "ipython3",
   "version": "3.7.7"
  }
 },
 "nbformat": 4,
 "nbformat_minor": 4
}
