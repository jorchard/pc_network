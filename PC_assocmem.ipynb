{
 "cells": [
  {
   "cell_type": "markdown",
   "metadata": {
    "Collapsed": "false"
   },
   "source": [
    "# PC Associative Memory\n",
    "Purpose: To implement the paper by Salvatori et al [2021]"
   ]
  },
  {
   "cell_type": "code",
   "execution_count": 1,
   "metadata": {
    "Collapsed": "false"
   },
   "outputs": [],
   "source": [
    "import numpy as np\n",
    "import matplotlib.pyplot as plt\n",
    "import torch\n",
    "from torch.utils.data import Dataset, DataLoader\n",
    "\n",
    "%load_ext autoreload\n",
    "%autoreload 1\n",
    "%aimport PCNetwork\n",
    "%aimport PCLayer\n",
    "%aimport PCConnection\n",
    "\n",
    "dtype = torch.float32\n",
    "if torch.cuda.is_available():\n",
    "    device = torch.device(\"cuda:0\") # Uncomment this to run on GPU\n",
    "else:\n",
    "    device = torch.device(\"cpu\")"
   ]
  },
  {
   "cell_type": "code",
   "execution_count": 2,
   "metadata": {},
   "outputs": [
    {
     "data": {
      "text/html": [
       "<style>.container { width:98% !important; }</style>"
      ],
      "text/plain": [
       "<IPython.core.display.HTML object>"
      ]
     },
     "metadata": {},
     "output_type": "display_data"
    }
   ],
   "source": [
    "from IPython.core.display import display, HTML\n",
    "display(HTML(\"<style>.container { width:98% !important; }</style>\"))\n",
    "#np.core.arrayprint._line_width = 80\n",
    "\n",
    "np.set_printoptions(edgeitems=30, linewidth=250, \n",
    "    formatter=dict(float=lambda x: \"% .4f\" % x))"
   ]
  },
  {
   "cell_type": "markdown",
   "metadata": {
    "Collapsed": "false"
   },
   "source": [
    "# Dataset"
   ]
  },
  {
   "cell_type": "code",
   "execution_count": 3,
   "metadata": {
    "Collapsed": "false"
   },
   "outputs": [
    {
     "name": "stdout",
     "output_type": "stream",
     "text": [
      "Input vectors\n",
      "tensor([[-0.4164,  0.7745,  0.9166,  0.7122,  0.1397, -0.2041, -0.8683,  0.0739,\n",
      "          0.2299, -1.1295],\n",
      "        [ 0.8342, -1.3426, -0.2057, -1.0417,  0.9985, -0.6422,  0.1371,  0.4460,\n",
      "         -0.6598, -0.5550],\n",
      "        [-0.6909,  1.4056, -1.3501, -1.3563,  0.3026,  1.1406, -1.1247, -0.6480,\n",
      "         -0.9250,  0.7643]])\n",
      "Target vectors\n",
      "tensor([[1., 0., 0.],\n",
      "        [0., 1., 0.],\n",
      "        [0., 0., 1.]])\n"
     ]
    }
   ],
   "source": [
    "# This creates a dataset\n",
    "\n",
    "n_classes = 3\n",
    "hidden_dim = 5\n",
    "sensory_dim = 10\n",
    "\n",
    "seed = 2959\n",
    "torch.manual_seed(seed)\n",
    "np.random.seed(seed)\n",
    "B = torch.eye(n_classes)\n",
    "X = 3.*(torch.rand((sensory_dim, n_classes)) - 0.5)\n",
    "A = X.T\n",
    "print('Input vectors')\n",
    "print(A)\n",
    "print('Target vectors')\n",
    "print(B)"
   ]
  },
  {
   "cell_type": "code",
   "execution_count": 4,
   "metadata": {
    "Collapsed": "false"
   },
   "outputs": [],
   "source": [
    "class SimpleDataset(Dataset):\n",
    "    def __init__(self, A, B, n=300, noise=0.1):\n",
    "        self.samples = []\n",
    "        self.n_classes = len(A)\n",
    "        self.input_dim = len(A[0])\n",
    "        for i in range(n):\n",
    "            r = np.random.randint(self.n_classes)\n",
    "            sample = [A[r]+noise*torch.randn_like(A[r]), B[r]]\n",
    "            self.samples.append(sample)\n",
    "        \n",
    "    def __getitem__(self, idx):\n",
    "        return self.samples[idx]\n",
    "        \n",
    "    def __len__(self):\n",
    "        return len(self.samples)\n",
    "    \n",
    "    def Inputs(self):\n",
    "        x = []\n",
    "        for s in self.samples:\n",
    "            x.append(s[0])\n",
    "        return torch.stack(x)\n",
    "    \n",
    "    def Targets(self):\n",
    "        t = []\n",
    "        for s in self.samples:\n",
    "            t.append(s[1])\n",
    "        return torch.stack(t)\n",
    "            \n",
    "    def InputsOfClass(self, c):\n",
    "        x = []\n",
    "        for s in self.samples:\n",
    "            if torch.argmax(s[1])==c:\n",
    "                x.append(s[0])\n",
    "        return torch.stack(x)\n",
    "    \n",
    "    def ClassMean(self):\n",
    "        xmean = []\n",
    "        for c_idx in range(self.n_classes):\n",
    "            classmean = torch.mean(self.InputsOfClass(c_idx), axis=0)\n",
    "            xmean.append(classmean)\n",
    "        return torch.stack(xmean)\n",
    "            \n",
    "    def Plot(self, labels=[], idx=(1,2), equal=True):\n",
    "        X = self.Inputs()\n",
    "        if len(labels)==0:\n",
    "            labels = self.Targets()\n",
    "        colour_options = ['y', 'r', 'g', 'b', 'k']\n",
    "        cidx = torch.argmax(labels, axis=1)\n",
    "        colours = [colour_options[k] for k in cidx]\n",
    "        plt.scatter(X[:,idx[0]], X[:,idx[1]], color=colours, marker='.')\n",
    "\n",
    "        if equal:\n",
    "            plt.axis('equal');"
   ]
  },
  {
   "cell_type": "code",
   "execution_count": 7,
   "metadata": {
    "Collapsed": "false"
   },
   "outputs": [],
   "source": [
    "blah = SimpleDataset(A, B, n=100, noise=0.4)"
   ]
  },
  {
   "cell_type": "code",
   "execution_count": 8,
   "metadata": {},
   "outputs": [
    {
     "data": {
      "image/png": "[encoded data removed]",
      "text/plain": [
       "<Figure size 432x288 with 1 Axes>"
      ]
     },
     "metadata": {
      "needs_background": "light"
     },
     "output_type": "display_data"
    }
   ],
   "source": [
    "blah.Plot(idx=[5,3])"
   ]
  },
  {
   "cell_type": "markdown",
   "metadata": {
    "Collapsed": "false"
   },
   "source": [
    "# Create Network"
   ]
  },
  {
   "cell_type": "code",
   "execution_count": 9,
   "metadata": {
    "Collapsed": "false"
   },
   "outputs": [],
   "source": [
    "net = PCNetwork.PCNetwork()\n",
    "net.AddLayer(PCLayer.PCLayer(n=10))  # v0 input\n",
    "net.AddLayer(PCLayer.PCLayer(n=10))  # e0\n",
    "net.AddLayer(PCLayer.PCLayer(n=5))   # v1\n",
    "net.AddLayer(PCLayer.PCLayer(n=5))   # e1\n",
    "net.AddLayer(PCLayer.PCLayer(n=3))   # v2 embedding\n",
    "\n",
    "af = 'identity'\n",
    "sym = True\n",
    "# Use identity activation for input layer to make it comparable to a FF net\n",
    "net.Connect(v_idx=0, e_idx=1, type='1to1')\n",
    "net.Connect(v_idx=2, e_idx=1, type='general', sym=sym, act_text='tanh')\n",
    "net.Connect(v_idx=2, e_idx=3, type='1to1')\n",
    "net.Connect(v_idx=4, e_idx=3, type='general', sym=sym, act_text=af)\n",
    "\n",
    "net.SetTau(0.04)\n",
    "net.SetGamma(0.2)"
   ]
  },
  {
   "cell_type": "code",
   "execution_count": 10,
   "metadata": {
    "Collapsed": "false"
   },
   "outputs": [],
   "source": [
    "#net.con[0].SetIdentity()\n",
    "#net.con[1].SetIdentity()"
   ]
  },
  {
   "cell_type": "code",
   "execution_count": 11,
   "metadata": {
    "Collapsed": "false"
   },
   "outputs": [],
   "source": [
    "#net.Save('my.net')\n",
    "#net2 = PCNetwork.PCNetwork.Load('my.net')"
   ]
  },
  {
   "cell_type": "markdown",
   "metadata": {
    "Collapsed": "false"
   },
   "source": [
    "# Training"
   ]
  },
  {
   "cell_type": "code",
   "execution_count": 12,
   "metadata": {
    "Collapsed": "false"
   },
   "outputs": [
    {
     "data": {
      "image/png": "[encoded data removed]",
      "text/plain": [
       "<Figure size 432x288 with 1 Axes>"
      ]
     },
     "metadata": {
      "needs_background": "light"
     },
     "output_type": "display_data"
    }
   ],
   "source": [
    "simple_ds = SimpleDataset(A, B, n=200, noise=0.4)\n",
    "dl = DataLoader(simple_ds, batch_size=25, shuffle=True)\n",
    "simple_ds.Plot(idx=(5,3))"
   ]
  },
  {
   "cell_type": "code",
   "execution_count": 13,
   "metadata": {},
   "outputs": [
    {
     "name": "stderr",
     "output_type": "stream",
     "text": [
      "100%|██████████| 6/6 [00:24<00:00,  4.01s/it]\n"
     ]
    }
   ],
   "source": [
    "net.Learn(dl, T=1., epochs=6)"
   ]
  },
  {
   "cell_type": "markdown",
   "metadata": {},
   "source": [
    "# Classification"
   ]
  },
  {
   "cell_type": "code",
   "execution_count": 20,
   "metadata": {},
   "outputs": [
    {
     "data": {
      "text/plain": [
       "tensor([[-0.4164,  0.7745,  0.9166,  0.7122,  0.1397, -0.2041, -0.8683,  0.0739,\n",
       "          0.2299, -1.1295],\n",
       "        [ 0.8342, -1.3426, -0.2057, -1.0417,  0.9985, -0.6422,  0.1371,  0.4460,\n",
       "         -0.6598, -0.5550],\n",
       "        [-0.6909,  1.4056, -1.3501, -1.3563,  0.3026,  1.1406, -1.1247, -0.6480,\n",
       "         -0.9250,  0.7643]])"
      ]
     },
     "execution_count": 20,
     "metadata": {},
     "output_type": "execute_result"
    }
   ],
   "source": [
    "A"
   ]
  },
  {
   "cell_type": "code",
   "execution_count": 27,
   "metadata": {},
   "outputs": [
    {
     "data": {
      "text/plain": [
       "tensor([[ 0.9560,  0.0097,  0.0075],\n",
       "        [-0.0200,  1.0023,  0.0038],\n",
       "        [ 0.0260,  0.0160,  1.0018]])"
      ]
     },
     "execution_count": 27,
     "metadata": {},
     "output_type": "execute_result"
    }
   ],
   "source": [
    "net.Reset(random=1.)\n",
    "net.lyr[-1].Probe(True)\n",
    "net.Predict(A, T=2.)"
   ]
  },
  {
   "cell_type": "code",
   "execution_count": 28,
   "metadata": {},
   "outputs": [
    {
     "data": {
      "image/png": "[encoded data removed]",
      "text/plain": [
       "<Figure size 432x288 with 1 Axes>"
      ]
     },
     "metadata": {
      "needs_background": "light"
     },
     "output_type": "display_data"
    }
   ],
   "source": [
    "net.lyr[-1].Plot(net.t_history, idx=0)"
   ]
  },
  {
   "cell_type": "code",
   "execution_count": 29,
   "metadata": {},
   "outputs": [
    {
     "data": {
      "image/png": "[encoded data removed]",
      "text/plain": [
       "<Figure size 432x288 with 1 Axes>"
      ]
     },
     "metadata": {
      "needs_background": "light"
     },
     "output_type": "display_data"
    }
   ],
   "source": [
    "sidx = (5,3)\n",
    "simple_ds.Plot(labels=net.Predict(simple_ds.Inputs(), T=2.), idx=sidx)"
   ]
  },
  {
   "cell_type": "code",
   "execution_count": null,
   "metadata": {},
   "outputs": [],
   "source": []
  }
 ],
 "metadata": {
  "kernelspec": {
   "display_name": "Python 3",
   "language": "python",
   "name": "python3"
  },
  "language_info": {
   "codemirror_mode": {
    "name": "ipython",
    "version": 3
   },
   "file_extension": ".py",
   "mimetype": "text/x-python",
   "name": "python",
   "nbconvert_exporter": "python",
   "pygments_lexer": "ipython3",
   "version": "3.8.3"
  },
  "toc-showcode": false,
  "toc-showtags": false
 },
 "nbformat": 4,
 "nbformat_minor": 4
}
