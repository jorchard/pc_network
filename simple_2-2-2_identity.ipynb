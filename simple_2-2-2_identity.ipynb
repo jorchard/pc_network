{
 "cells": [
  {
   "cell_type": "markdown",
   "metadata": {
    "Collapsed": "false"
   },
   "source": [
    "# 2-2-2 Identity PC Network\n",
    "Purpose: A baseline implementation to compare to."
   ]
  },
  {
   "cell_type": "code",
   "execution_count": 11,
   "metadata": {
    "Collapsed": "false"
   },
   "outputs": [
    {
     "name": "stdout",
     "output_type": "stream",
     "text": [
      "The autoreload extension is already loaded. To reload it, use:\n",
      "  %reload_ext autoreload\n"
     ]
    }
   ],
   "source": [
    "import numpy as np\n",
    "import matplotlib.pyplot as plt\n",
    "from copy import deepcopy\n",
    "import torch\n",
    "from torch.utils.data import Dataset, DataLoader\n",
    "from tqdm import tqdm\n",
    "\n",
    "%load_ext autoreload\n",
    "%autoreload 1\n",
    "%aimport PCNetwork\n",
    "%aimport PCLayer\n",
    "%aimport PCConnection\n",
    "\n",
    "np.set_printoptions(precision=4)\n",
    "\n",
    "dtype = torch.float32\n",
    "if torch.cuda.is_available():\n",
    "    device = torch.device(\"cuda:5\") # Uncomment this to run on GPU\n",
    "else:\n",
    "    device = torch.device(\"cpu\")"
   ]
  },
  {
   "cell_type": "markdown",
   "metadata": {
    "Collapsed": "true",
    "heading_collapsed": true
   },
   "source": [
    "# Dataset class"
   ]
  },
  {
   "cell_type": "code",
   "execution_count": 2,
   "metadata": {
    "Collapsed": "false",
    "hidden": true
   },
   "outputs": [],
   "source": [
    "class SimpleDataset(Dataset):\n",
    "    def __init__(self, A, B, n=300, Anoise=0.1, Bnoise=0.):\n",
    "        self.samples = []\n",
    "        self.n_classes = len(A)\n",
    "        self.input_dim = len(A[0])\n",
    "        for i in range(n):\n",
    "            r = np.random.randint(self.n_classes)\n",
    "            sample = [A[r]+Anoise*torch.randn_like(A[r]), B[r]+Bnoise*torch.randn_like(B[r])]\n",
    "            #sample = [A[r]+noise*torch.randn_like(A[r]), B[r]+noise*torch.randn_like(B[r])]\n",
    "            self.samples.append(sample)\n",
    "        \n",
    "    def __getitem__(self, idx):\n",
    "        return self.samples[idx]\n",
    "        \n",
    "    def __len__(self):\n",
    "        return len(self.samples)\n",
    "    \n",
    "    def Inputs(self):\n",
    "        x = []\n",
    "        for s in self.samples:\n",
    "            x.append(s[0])\n",
    "        return torch.stack(x)\n",
    "    \n",
    "    def Targets(self):\n",
    "        t = []\n",
    "        for s in self.samples:\n",
    "            t.append(s[1])\n",
    "        return torch.stack(t)\n",
    "            \n",
    "    def InputsOfClass(self, c):\n",
    "        x = []\n",
    "        for s in self.samples:\n",
    "            if torch.argmax(s[1])==c:\n",
    "                x.append(s[0])\n",
    "        return torch.stack(x)\n",
    "    \n",
    "    def ClassMean(self):\n",
    "        xmean = []\n",
    "        for c_idx in range(self.n_classes):\n",
    "            classmean = torch.mean(self.InputsOfClass(c_idx), axis=0)\n",
    "            xmean.append(classmean)\n",
    "        return torch.stack(xmean)\n",
    "            \n",
    "    def Plot(self, labels=[], idx=(1,2), equal=True):\n",
    "        X = self.Inputs()\n",
    "        if len(labels)==0:\n",
    "            labels = self.Targets()\n",
    "        colour_options = ['y', 'r', 'g', 'b', 'k']\n",
    "        cidx = torch.argmax(labels, axis=1)\n",
    "        colours = [colour_options[k] for k in cidx]\n",
    "        plt.scatter(X.cpu()[:,idx[0]], X.cpu()[:,idx[1]], color=colours, marker='.')\n",
    "\n",
    "        if equal:\n",
    "            plt.axis('equal');"
   ]
  },
  {
   "cell_type": "code",
   "execution_count": 3,
   "metadata": {
    "Collapsed": "false",
    "hidden": true
   },
   "outputs": [],
   "source": [
    "A = torch.tensor([[-1,-2],[3,4]], dtype=torch.float)\n",
    "blah = SimpleDataset(A, A, n=200, Anoise=0.05, Bnoise=0.05)"
   ]
  },
  {
   "cell_type": "code",
   "execution_count": 4,
   "metadata": {
    "Collapsed": "false",
    "hidden": true
   },
   "outputs": [
    {
     "data": {
      "image/png": "[encoded data removed]",
      "text/plain": [
       "<Figure size 432x288 with 1 Axes>"
      ]
     },
     "metadata": {
      "needs_background": "light"
     },
     "output_type": "display_data"
    }
   ],
   "source": [
    "blah.Plot(idx=(0,1));"
   ]
  },
  {
   "cell_type": "markdown",
   "metadata": {
    "Collapsed": "false"
   },
   "source": [
    "# Create Network"
   ]
  },
  {
   "cell_type": "code",
   "execution_count": 12,
   "metadata": {
    "Collapsed": "false"
   },
   "outputs": [],
   "source": [
    "# 2-2-2 network\n",
    "net = PCNetwork.PCNetwork(device=device)\n",
    "net.AddLayer(PCLayer.PCLayer(n=2, device=device))  # [0] v0 input\n",
    "\n",
    "net.AddLayer(PCLayer.PCLayer(n=2, device=device))  # [1] e1 error\n",
    "net.AddLayer(PCLayer.PCLayer(n=2, device=device))  # [2] v1 class\n",
    "\n",
    "net.Connect(v_idx=0, e_idx=1, type='general', sym=True, act_text='identity')\n",
    "net.Connect(e_idx=1, v_idx=2, type='1to1')\n",
    "\n",
    "net.SetTau(0.05)\n",
    "net.SetGamma(0.1)"
   ]
  },
  {
   "cell_type": "markdown",
   "metadata": {
    "Collapsed": "false"
   },
   "source": [
    "# Training"
   ]
  },
  {
   "cell_type": "code",
   "execution_count": 29,
   "metadata": {
    "Collapsed": "false"
   },
   "outputs": [
    {
     "data": {
      "image/png": "[encoded data removed]",
      "text/plain": [
       "<Figure size 432x288 with 1 Axes>"
      ]
     },
     "metadata": {
      "needs_background": "light"
     },
     "output_type": "display_data"
    }
   ],
   "source": [
    "# Dataset\n",
    "ds = SimpleDataset(A, A, n=100, Anoise=0.05, Bnoise=0.05)\n",
    "dl = DataLoader(ds, batch_size=100, shuffle=True)\n",
    "ds.Plot(idx=(0,1))"
   ]
  },
  {
   "cell_type": "code",
   "execution_count": 30,
   "metadata": {
    "Collapsed": "false",
    "jupyter": {
     "source_hidden": true
    }
   },
   "outputs": [],
   "source": [
    "net.ClearHistory()\n",
    "net.Probe(True)\n",
    "net.Learning(True)\n",
    "\n",
    "# Connection (v0)--(e1)\n",
    "#net.con[0].SetIdentity() # v0-e1\n",
    "net.con[0].SetRandom(random=0.1) # v0-e1\n",
    "\n",
    "# Turn off bells and whistles\n",
    "net.SetDynamicWeightDecay(0.0, 0.0)\n",
    "net.SetActivityDecay(0.0)\n",
    "net.SetBlackout(0.)"
   ]
  },
  {
   "cell_type": "code",
   "execution_count": 31,
   "metadata": {},
   "outputs": [
    {
     "data": {
      "text/plain": [
       "tensor([[-0.1331, -0.0822],\n",
       "        [ 0.1164, -0.0844]])"
      ]
     },
     "execution_count": 31,
     "metadata": {},
     "output_type": "execute_result"
    }
   ],
   "source": [
    "net.con[0].W"
   ]
  },
  {
   "cell_type": "code",
   "execution_count": 32,
   "metadata": {},
   "outputs": [
    {
     "data": {
      "text/plain": [
       "tensor([[1., 0.],\n",
       "        [0., 1.]])"
      ]
     },
     "execution_count": 32,
     "metadata": {},
     "output_type": "execute_result"
    }
   ],
   "source": [
    "net.con[1].M"
   ]
  },
  {
   "cell_type": "markdown",
   "metadata": {
    "Collapsed": "true"
   },
   "source": [
    "## Train it"
   ]
  },
  {
   "cell_type": "code",
   "execution_count": 34,
   "metadata": {
    "Collapsed": "false"
   },
   "outputs": [
    {
     "name": "stderr",
     "output_type": "stream",
     "text": [
      "100%|██████████| 10/10 [00:02<00:00,  3.46it/s]\n"
     ]
    }
   ],
   "source": [
    "net.Reset()\n",
    "net.Learn(dl, T=1., epochs=10)"
   ]
  },
  {
   "cell_type": "code",
   "execution_count": 35,
   "metadata": {
    "Collapsed": "false"
   },
   "outputs": [
    {
     "name": "stdout",
     "output_type": "stream",
     "text": [
      "tensor([[0.9590, 0.0284],\n",
      "        [0.0273, 0.9773]])\n",
      "tensor([[0.9590, 0.0273],\n",
      "        [0.0284, 0.9773]])\n"
     ]
    }
   ],
   "source": [
    "print(net.con[0].M)\n",
    "print(net.con[0].W)"
   ]
  },
  {
   "cell_type": "code",
   "execution_count": 36,
   "metadata": {
    "Collapsed": "false"
   },
   "outputs": [
    {
     "name": "stdout",
     "output_type": "stream",
     "text": [
      "tensor([[1., 0.],\n",
      "        [0., 1.]])\n",
      "tensor([[1., 0.],\n",
      "        [0., 1.]])\n"
     ]
    }
   ],
   "source": [
    "print(net.con[1].M)\n",
    "print(net.con[1].W)"
   ]
  },
  {
   "cell_type": "code",
   "execution_count": 37,
   "metadata": {
    "Collapsed": "false"
   },
   "outputs": [
    {
     "data": {
      "image/png": "[encoded data removed]",
      "text/plain": [
       "<Figure size 720x288 with 3 Axes>"
      ]
     },
     "metadata": {
      "needs_background": "light"
     },
     "output_type": "display_data"
    }
   ],
   "source": [
    "net.Plot();"
   ]
  },
  {
   "cell_type": "code",
   "execution_count": null,
   "metadata": {
    "Collapsed": "false"
   },
   "outputs": [],
   "source": []
  }
 ],
 "metadata": {
  "kernelspec": {
   "display_name": "Python 3",
   "language": "python",
   "name": "python3"
  },
  "language_info": {
   "codemirror_mode": {
    "name": "ipython",
    "version": 3
   },
   "file_extension": ".py",
   "mimetype": "text/x-python",
   "name": "python",
   "nbconvert_exporter": "python",
   "pygments_lexer": "ipython3",
   "version": "3.8.3"
  }
 },
 "nbformat": 4,
 "nbformat_minor": 4
}
