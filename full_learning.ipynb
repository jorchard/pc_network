{
 "cells": [
  {
   "cell_type": "markdown",
   "metadata": {
    "Collapsed": "false"
   },
   "source": [
    "# Full-Learning PC Networks\n",
    "Purpose: To see if we can learn not only (v)<->(e) connections, but also the (e)<->(v) connections. Those connections have previously been set to 1:1 identity mappings. But here they start as random connection weights, and learn using the same update rule as the other learning connections."
   ]
  },
  {
   "cell_type": "code",
   "execution_count": 191,
   "metadata": {
    "Collapsed": "false"
   },
   "outputs": [
    {
     "name": "stdout",
     "output_type": "stream",
     "text": [
      "The autoreload extension is already loaded. To reload it, use:\n",
      "  %reload_ext autoreload\n"
     ]
    }
   ],
   "source": [
    "import numpy as np\n",
    "import matplotlib.pyplot as plt\n",
    "from copy import deepcopy\n",
    "import torch\n",
    "from torch.utils.data import Dataset, DataLoader\n",
    "from IPython.display import display\n",
    "from ipywidgets import FloatProgress\n",
    "\n",
    "%load_ext autoreload\n",
    "%autoreload 1\n",
    "%aimport PCNetwork\n",
    "%aimport PCLayer\n",
    "%aimport PCConnection\n",
    "\n",
    "dtype = torch.float32\n",
    "if torch.cuda.is_available():\n",
    "    device = torch.device(\"cuda:0\") # Uncomment this to run on GPU\n",
    "else:\n",
    "    device = torch.device(\"cpu\")"
   ]
  },
  {
   "cell_type": "markdown",
   "metadata": {
    "Collapsed": "false"
   },
   "source": [
    "# Dataset"
   ]
  },
  {
   "cell_type": "code",
   "execution_count": 175,
   "metadata": {
    "Collapsed": "false"
   },
   "outputs": [],
   "source": [
    "# Make my own dataset\n",
    "A = torch.tensor([[ 1.3874, -0.2003,  0.4514],\n",
    "                  [-0.0967, -0.4015,  1.3332]], dtype=torch.float32, device=device)\n",
    "n_classes, top_dim = np.shape(A)\n",
    "B = torch.eye(n_classes, device=device)"
   ]
  },
  {
   "cell_type": "code",
   "execution_count": 135,
   "metadata": {
    "Collapsed": "false"
   },
   "outputs": [],
   "source": [
    "# Make my own dataset\n",
    "A = torch.rand((4,9), dtype=torch.float32, device=device)\n",
    "n_classes, top_dim = np.shape(A)\n",
    "B = torch.eye(n_classes, device=device)"
   ]
  },
  {
   "cell_type": "code",
   "execution_count": 1507,
   "metadata": {
    "Collapsed": "false"
   },
   "outputs": [],
   "source": [
    "# Make my own dataset\n",
    "A = torch.eye(2, dtype=torch.float32, device=device)\n",
    "n_classes, top_dim = np.shape(A)\n",
    "B = torch.eye(n_classes, device=device)"
   ]
  },
  {
   "cell_type": "code",
   "execution_count": 3,
   "metadata": {
    "Collapsed": "false",
    "collapsed": true,
    "jupyter": {
     "outputs_hidden": true,
     "source_hidden": true
    }
   },
   "outputs": [
    {
     "name": "stdout",
     "output_type": "stream",
     "text": [
      "Input vectors\n",
      "tensor([[ 0.3232, -0.9563,  0.5234,  1.4845, -0.3955,  0.9563, -0.8818, -1.4115,\n",
      "          1.3157,  0.8915],\n",
      "        [ 1.2468,  0.5938,  0.8025, -1.0985, -1.3189, -0.9960,  0.8459, -0.2334,\n",
      "          0.5250,  1.1660],\n",
      "        [-0.8239, -1.1012,  0.0545,  0.2905, -0.4973,  1.3367, -1.4346,  0.9836,\n",
      "         -0.9238, -0.5371]])\n",
      "Target vectors\n",
      "tensor([[1., 0., 0.],\n",
      "        [0., 1., 0.],\n",
      "        [0., 0., 1.]])\n"
     ]
    }
   ],
   "source": [
    "# This creates a dataset\n",
    "\n",
    "n_classes = 3\n",
    "hidden_dim = 5\n",
    "sensory_dim = 10\n",
    "\n",
    "seed = 2950\n",
    "torch.manual_seed(seed)\n",
    "np.random.seed(seed)\n",
    "B = torch.eye(n_classes)\n",
    "X = 3.*(torch.rand((sensory_dim, n_classes)) - 0.5)\n",
    "A = X.T\n",
    "print('Input vectors')\n",
    "print(A)\n",
    "print('Target vectors')\n",
    "print(B)"
   ]
  },
  {
   "cell_type": "code",
   "execution_count": 226,
   "metadata": {
    "Collapsed": "false"
   },
   "outputs": [],
   "source": [
    "class SimpleDataset(Dataset):\n",
    "    def __init__(self, A, B, n=300, noise=0.1):\n",
    "        self.samples = []\n",
    "        self.n_classes = len(A)\n",
    "        self.input_dim = len(A[0])\n",
    "        for i in range(n):\n",
    "            r = np.random.randint(self.n_classes)\n",
    "            sample = [A[r]+noise*torch.randn_like(A[r]), B[r]]\n",
    "            #sample = [A[r]+noise*torch.randn_like(A[r]), B[r]+noise*torch.randn_like(B[r])]\n",
    "            self.samples.append(sample)\n",
    "        \n",
    "    def __getitem__(self, idx):\n",
    "        return self.samples[idx]\n",
    "        \n",
    "    def __len__(self):\n",
    "        return len(self.samples)\n",
    "    \n",
    "    def Inputs(self):\n",
    "        x = []\n",
    "        for s in self.samples:\n",
    "            x.append(s[0])\n",
    "        return torch.stack(x)\n",
    "    \n",
    "    def Targets(self):\n",
    "        t = []\n",
    "        for s in self.samples:\n",
    "            t.append(s[1])\n",
    "        return torch.stack(t)\n",
    "            \n",
    "    def InputsOfClass(self, c):\n",
    "        x = []\n",
    "        for s in self.samples:\n",
    "            if torch.argmax(s[1])==c:\n",
    "                x.append(s[0])\n",
    "        return torch.stack(x)\n",
    "    \n",
    "    def ClassMean(self):\n",
    "        xmean = []\n",
    "        for c_idx in range(self.n_classes):\n",
    "            classmean = torch.mean(self.InputsOfClass(c_idx), axis=0)\n",
    "            xmean.append(classmean)\n",
    "        return torch.stack(xmean)\n",
    "            \n",
    "    def Plot(self, labels=[], idx=(1,2), equal=True):\n",
    "        X = self.Inputs()\n",
    "        if len(labels)==0:\n",
    "            labels = self.Targets()\n",
    "        colour_options = ['y', 'r', 'g', 'b', 'k']\n",
    "        cidx = torch.argmax(labels, axis=1)\n",
    "        colours = [colour_options[k] for k in cidx]\n",
    "        plt.scatter(X[:,idx[0]], X[:,idx[1]], color=colours, marker='.')\n",
    "\n",
    "        if equal:\n",
    "            plt.axis('equal');"
   ]
  },
  {
   "cell_type": "code",
   "execution_count": 227,
   "metadata": {
    "Collapsed": "false"
   },
   "outputs": [],
   "source": [
    "blah = SimpleDataset(A, B, n=200, noise=0.1)"
   ]
  },
  {
   "cell_type": "code",
   "execution_count": 228,
   "metadata": {
    "Collapsed": "false"
   },
   "outputs": [
    {
     "data": {
      "image/png": "[encoded data removed]",
      "text/plain": [
       "<Figure size 432x288 with 1 Axes>"
      ]
     },
     "metadata": {
      "needs_background": "light"
     },
     "output_type": "display_data"
    }
   ],
   "source": [
    "blah.Plot(idx=(0,1));"
   ]
  },
  {
   "cell_type": "markdown",
   "metadata": {
    "Collapsed": "false"
   },
   "source": [
    "# Create Network"
   ]
  },
  {
   "cell_type": "code",
   "execution_count": 229,
   "metadata": {
    "Collapsed": "false"
   },
   "outputs": [],
   "source": [
    "ds = SimpleDataset(A, B, n=200, noise=0.1)\n",
    "dl = DataLoader(ds, batch_size=4, shuffle=True)"
   ]
  },
  {
   "cell_type": "code",
   "execution_count": 230,
   "metadata": {
    "Collapsed": "false"
   },
   "outputs": [],
   "source": [
    "net = PCNetwork.PCNetwork()\n",
    "net.AddLayer(PCLayer.PCLayer(n=ds.input_dim))  # v0 input\n",
    "net.AddLayer(PCLayer.PCLayer(n=ds.n_classes))  # e1 error\n",
    "net.AddLayer(PCLayer.PCLayer(n=ds.n_classes))  # v1 class\n",
    "\n",
    "af0 = 'identity'\n",
    "af = 'identity'\n",
    "net.Connect(v_idx=0, e_idx=1, type='general', sym=True, act_text=af0)\n",
    "#net.Connect(v_idx=2, e_idx=1, type='1to1')\n",
    "net.Connect(e_idx=1, v_idx=2, type='general', sym=True, act_text=af)\n",
    "#net.con[1].SetIdentity()\n",
    "\n",
    "net.SetTau(0.05)"
   ]
  },
  {
   "cell_type": "markdown",
   "metadata": {
    "Collapsed": "false"
   },
   "source": [
    "# Training"
   ]
  },
  {
   "cell_type": "code",
   "execution_count": 46,
   "metadata": {
    "Collapsed": "false"
   },
   "outputs": [],
   "source": [
    "#net.Plot(idx=0);"
   ]
  },
  {
   "cell_type": "code",
   "execution_count": 243,
   "metadata": {
    "Collapsed": "false"
   },
   "outputs": [],
   "source": [
    "net.ClearHistory()\n",
    "net.Probe(True)\n",
    "net.Learning(True)\n",
    "net.SetGamma(0.1)\n",
    "\n",
    "# Connection (v0)--(e1)\n",
    "net.con[0].SetRandom(random=1.)\n",
    "\n",
    "# Connection (e1)--(v1)\n",
    "net.con[1].SetRandom(random=1.)\n",
    "#net.con[1].SetIdentity(mult=0.1)\n",
    "net.con[1].renormalize = True\n",
    "net.con[1].ell = 1.\n",
    "\n",
    "#net.lyr[1].SetBias(random=0.5)\n",
    "\n",
    "net.SetDynamicWeightDecay(0., 0.8)\n",
    "net.SetActivityDecay(0.0)\n",
    "net.SetBlackout(0.)"
   ]
  },
  {
   "cell_type": "code",
   "execution_count": 244,
   "metadata": {
    "Collapsed": "false"
   },
   "outputs": [
    {
     "name": "stdout",
     "output_type": "stream",
     "text": [
      "tensor([[ 1.1155, -0.4463],\n",
      "        [-0.0194,  0.3221],\n",
      "        [-0.0179, -0.2995]])\n",
      "tensor([[ 0.8399,  0.3613],\n",
      "        [-0.6603,  0.1278]])\n"
     ]
    }
   ],
   "source": [
    "M0 = deepcopy(net.con[0].M)\n",
    "print(M0)\n",
    "M1 = deepcopy(net.con[1].M)\n",
    "print(M1)"
   ]
  },
  {
   "cell_type": "code",
   "execution_count": 59,
   "metadata": {
    "Collapsed": "false"
   },
   "outputs": [],
   "source": [
    "net.SetRepelSmallWeights(0.0)"
   ]
  },
  {
   "cell_type": "code",
   "execution_count": 2101,
   "metadata": {
    "Collapsed": "false"
   },
   "outputs": [],
   "source": [
    "net.con[0].M = M0.clone().detach()\n",
    "net.con[0].W = M0.transpose(1,0).clone().detach()\n",
    "net.con[1].M = M1.clone().detach()\n",
    "net.con[1].W = M1.transpose(1,0).clone().detach()"
   ]
  },
  {
   "cell_type": "code",
   "execution_count": 245,
   "metadata": {
    "Collapsed": "false"
   },
   "outputs": [],
   "source": [
    "net.ClearHistory()"
   ]
  },
  {
   "cell_type": "code",
   "execution_count": 246,
   "metadata": {
    "Collapsed": "false"
   },
   "outputs": [
    {
     "name": "stdout",
     "output_type": "stream",
     "text": [
      "Epoch: 0 weight decay = 0.0\n",
      "Epoch: 1 weight decay = 0.0\n"
     ]
    }
   ],
   "source": [
    "net.Learning(True)\n",
    "net.con[1].Learning(True)\n",
    "net.Learn(dl, T=1., epochs=2)"
   ]
  },
  {
   "cell_type": "code",
   "execution_count": 247,
   "metadata": {
    "Collapsed": "false"
   },
   "outputs": [
    {
     "data": {
      "text/plain": [
       "tensor(1.)"
      ]
     },
     "execution_count": 247,
     "metadata": {},
     "output_type": "execute_result"
    }
   ],
   "source": [
    "torch.sum(torch.abs(net.con[1].M))"
   ]
  },
  {
   "cell_type": "code",
   "execution_count": 248,
   "metadata": {
    "Collapsed": "false"
   },
   "outputs": [
    {
     "name": "stdout",
     "output_type": "stream",
     "text": [
      "tensor([[ 0.4350, -0.0653],\n",
      "        [-0.1344,  0.0090],\n",
      "        [ 0.0805, -0.0842]])\n",
      "tensor([[ 0.7008, -0.1344],\n",
      "        [ 0.0666, -0.0982]])\n"
     ]
    }
   ],
   "source": [
    "print(net.con[0].M)\n",
    "print(net.con[1].M)"
   ]
  },
  {
   "cell_type": "code",
   "execution_count": 249,
   "metadata": {
    "Collapsed": "false"
   },
   "outputs": [
    {
     "data": {
      "image/png": "[encoded data removed]",
      "text/plain": [
       "<Figure size 720x288 with 5 Axes>"
      ]
     },
     "metadata": {
      "needs_background": "light"
     },
     "output_type": "display_data"
    }
   ],
   "source": [
    "net.Plot(idx=0);"
   ]
  },
  {
   "cell_type": "markdown",
   "metadata": {
    "Collapsed": "false"
   },
   "source": [
    "# Classification"
   ]
  },
  {
   "cell_type": "code",
   "execution_count": 250,
   "metadata": {
    "Collapsed": "false"
   },
   "outputs": [
    {
     "name": "stdout",
     "output_type": "stream",
     "text": [
      "tensor([[ 1.0903e+00,  9.8108e-04],\n",
      "        [ 9.1633e-01,  6.0004e-02],\n",
      "        [ 3.1851e-02,  7.6331e-01],\n",
      "        [ 1.0086e+00,  5.3415e-02],\n",
      "        [ 1.0056e+00,  5.1903e-02],\n",
      "        [ 2.1124e-02,  7.7975e-01],\n",
      "        [ 1.0048e+00,  1.7006e-02],\n",
      "        [ 9.0844e-01,  1.2371e-01],\n",
      "        [ 1.0582e+00,  9.6356e-02],\n",
      "        [ 8.5077e-01,  1.2258e-01],\n",
      "        [ 9.3361e-01, -9.0627e-02],\n",
      "        [ 9.7352e-01,  8.0440e-02],\n",
      "        [ 1.5401e-01,  8.0659e-01],\n",
      "        [ 8.5095e-01, -3.5248e-02],\n",
      "        [ 9.8718e-01,  8.0533e-02],\n",
      "        [ 6.6791e-02,  8.1088e-01]])\n",
      "tensor([[1., 0.],\n",
      "        [1., 0.],\n",
      "        [0., 1.],\n",
      "        [1., 0.],\n",
      "        [1., 0.],\n",
      "        [0., 1.],\n",
      "        [1., 0.],\n",
      "        [1., 0.],\n",
      "        [1., 0.],\n",
      "        [1., 0.],\n",
      "        [1., 0.],\n",
      "        [1., 0.],\n",
      "        [0., 1.],\n",
      "        [1., 0.],\n",
      "        [1., 0.],\n",
      "        [0., 1.]])\n"
     ]
    }
   ],
   "source": [
    "net.Reset(random=1.)\n",
    "net.SetActivityDecay( 0. )\n",
    "y = net.Predict(ds.Inputs(), T=10.)\n",
    "print(y[:16])\n",
    "print(ds.Targets()[:16])"
   ]
  },
  {
   "cell_type": "code",
   "execution_count": 251,
   "metadata": {
    "Collapsed": "false"
   },
   "outputs": [
    {
     "data": {
      "image/png": "[encoded data removed]",
      "text/plain": [
       "<Figure size 720x288 with 5 Axes>"
      ]
     },
     "metadata": {
      "needs_background": "light"
     },
     "output_type": "display_data"
    }
   ],
   "source": [
    "net.Plot(idx=[1,2,3,4,5]);"
   ]
  },
  {
   "cell_type": "code",
   "execution_count": 204,
   "metadata": {
    "Collapsed": "false"
   },
   "outputs": [
    {
     "data": {
      "image/png": "[encoded data removed]",
      "text/plain": [
       "<Figure size 432x288 with 1 Axes>"
      ]
     },
     "metadata": {
      "needs_background": "light"
     },
     "output_type": "display_data"
    }
   ],
   "source": [
    "ds.Plot(labels=y, idx=(0,1))"
   ]
  },
  {
   "cell_type": "markdown",
   "metadata": {
    "Collapsed": "true"
   },
   "source": [
    "# Generation"
   ]
  },
  {
   "cell_type": "code",
   "execution_count": 67,
   "metadata": {
    "Collapsed": "false"
   },
   "outputs": [],
   "source": [
    "net.Reset(random=1.)\n",
    "net.SetActivityDecay( 0.01 )\n",
    "X = net.Generate(ds.Targets(), T=20)"
   ]
  },
  {
   "cell_type": "code",
   "execution_count": 68,
   "metadata": {
    "Collapsed": "false"
   },
   "outputs": [
    {
     "data": {
      "image/png": "[encoded data removed]",
      "text/plain": [
       "<Figure size 432x288 with 1 Axes>"
      ]
     },
     "metadata": {
      "needs_background": "light"
     },
     "output_type": "display_data"
    }
   ],
   "source": [
    "sidx = (0,1)\n",
    "ds.Plot(idx=sidx)\n",
    "plt.plot(X[:,sidx[0]], X[:,sidx[1]], 's', color=[0,0,0,0.1]);"
   ]
  },
  {
   "cell_type": "code",
   "execution_count": 207,
   "metadata": {
    "Collapsed": "false"
   },
   "outputs": [
    {
     "data": {
      "image/png": "[encoded data removed]",
      "text/plain": [
       "<Figure size 432x288 with 1 Axes>"
      ]
     },
     "metadata": {
      "needs_background": "light"
     },
     "output_type": "display_data"
    }
   ],
   "source": [
    "sidx = (2,1)\n",
    "ds.Plot(idx=sidx)\n",
    "plt.plot(X[:,sidx[0]], X[:,sidx[1]], 's', color=[0,0,0,0.1]);"
   ]
  },
  {
   "cell_type": "code",
   "execution_count": 70,
   "metadata": {
    "Collapsed": "false"
   },
   "outputs": [
    {
     "data": {
      "text/plain": [
       "(array([[-0.2791553 ,  0.94110906,  0.19075115],\n",
       "        [-0.8711832 , -0.33176613,  0.36189917],\n",
       "        [ 0.4038714 , -0.06515311,  0.91249275]], dtype=float32),\n",
       " array([1.7948176, 0.5198465], dtype=float32),\n",
       " array([[-0.8322415, -0.5544133],\n",
       "        [ 0.5544133, -0.8322415]], dtype=float32))"
      ]
     },
     "execution_count": 70,
     "metadata": {},
     "output_type": "execute_result"
    }
   ],
   "source": [
    "np.linalg.svd(net.con[0].M.numpy())"
   ]
  },
  {
   "cell_type": "markdown",
   "metadata": {
    "Collapsed": "false"
   },
   "source": [
    "# Linear Analysis"
   ]
  },
  {
   "cell_type": "code",
   "execution_count": 165,
   "metadata": {
    "Collapsed": "false"
   },
   "outputs": [],
   "source": [
    "X = ds.Inputs().transpose(1,0)\n",
    "Y = ds.Targets().transpose(1,0)"
   ]
  },
  {
   "cell_type": "code",
   "execution_count": 166,
   "metadata": {
    "Collapsed": "false"
   },
   "outputs": [
    {
     "data": {
      "text/plain": [
       "torch.Size([3, 200])"
      ]
     },
     "execution_count": 166,
     "metadata": {},
     "output_type": "execute_result"
    }
   ],
   "source": [
    "X.size()"
   ]
  },
  {
   "cell_type": "code",
   "execution_count": 167,
   "metadata": {
    "Collapsed": "false"
   },
   "outputs": [],
   "source": [
    "XX = X @ X.transpose(1,0)\n",
    "XY = X @ Y.transpose(1,0)\n",
    "YX = Y @ X.transpose(1,0)\n",
    "YY = Y @ Y.transpose(1,0)"
   ]
  },
  {
   "cell_type": "code",
   "execution_count": 168,
   "metadata": {
    "Collapsed": "false"
   },
   "outputs": [],
   "source": [
    "Xbb_first_row = torch.cat((XX,XY), 1)\n",
    "Xbb_second_row = torch.cat((YX,YY), 1)\n",
    "Xbb = torch.cat((Xbb_first_row, Xbb_second_row), 0)"
   ]
  },
  {
   "cell_type": "code",
   "execution_count": 169,
   "metadata": {
    "Collapsed": "false"
   },
   "outputs": [
    {
     "data": {
      "text/plain": [
       "tensor([[192.7360, -21.7756,  48.4585, 135.4664,  -9.0804],\n",
       "        [-21.7756,  22.4884, -63.0774, -18.4121, -41.2082],\n",
       "        [ 48.4585, -63.0774, 204.1694,  43.4494, 136.2605],\n",
       "        [135.4665, -18.4121,  43.4494,  97.9196,   0.5839],\n",
       "        [ -9.0804, -41.2082, 136.2605,   0.5839, 103.3818]])"
      ]
     },
     "execution_count": 169,
     "metadata": {},
     "output_type": "execute_result"
    }
   ],
   "source": [
    "Xbb"
   ]
  },
  {
   "cell_type": "code",
   "execution_count": 170,
   "metadata": {
    "Collapsed": "false"
   },
   "outputs": [
    {
     "data": {
      "text/plain": [
       "5"
      ]
     },
     "execution_count": 170,
     "metadata": {},
     "output_type": "execute_result"
    }
   ],
   "source": [
    "np.linalg.matrix_rank(Xbb.numpy())"
   ]
  },
  {
   "cell_type": "code",
   "execution_count": 171,
   "metadata": {
    "Collapsed": "false"
   },
   "outputs": [
    {
     "name": "stdout",
     "output_type": "stream",
     "text": [
      "tensor([362.4649, 252.3392,   2.5673,   1.9268,   1.3971])\n"
     ]
    }
   ],
   "source": [
    "u,s,v = torch.svd(Xbb)\n",
    "print(s)"
   ]
  },
  {
   "cell_type": "code",
   "execution_count": 172,
   "metadata": {
    "Collapsed": "false"
   },
   "outputs": [
    {
     "name": "stdout",
     "output_type": "stream",
     "text": [
      "tensor([[362.4650,   0.0000],\n",
      "        [252.3393,   0.0000],\n",
      "        [  1.3971,   0.0000],\n",
      "        [  2.5673,   0.0000],\n",
      "        [  1.9268,   0.0000]])\n"
     ]
    }
   ],
   "source": [
    "evalue, evec = torch.eig(Xbb, eigenvectors=True)\n",
    "print(evalue)"
   ]
  },
  {
   "cell_type": "code",
   "execution_count": 173,
   "metadata": {
    "Collapsed": "false"
   },
   "outputs": [
    {
     "name": "stdout",
     "output_type": "stream",
     "text": [
      "tensor([180.4536, -79.0115, 237.5939, 137.2176, 131.5103])\n"
     ]
    },
    {
     "data": {
      "text/plain": [
       "tensor([180.4536, -79.0115, 237.5939, 137.2177, 131.5104])"
      ]
     },
     "execution_count": 173,
     "metadata": {},
     "output_type": "execute_result"
    }
   ],
   "source": [
    "k = 0\n",
    "print(Xbb @ evec[:,k])\n",
    "evalue[k,0] * evec[:,k]"
   ]
  },
  {
   "cell_type": "code",
   "execution_count": null,
   "metadata": {
    "Collapsed": "false"
   },
   "outputs": [],
   "source": []
  }
 ],
 "metadata": {
  "kernelspec": {
   "display_name": "Python 3",
   "language": "python",
   "name": "python3"
  },
  "language_info": {
   "codemirror_mode": {
    "name": "ipython",
    "version": 3
   },
   "file_extension": ".py",
   "mimetype": "text/x-python",
   "name": "python",
   "nbconvert_exporter": "python",
   "pygments_lexer": "ipython3",
   "version": "3.7.4"
  }
 },
 "nbformat": 4,
 "nbformat_minor": 4
}
